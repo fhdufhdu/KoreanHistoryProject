{
 "cells": [
  {
   "cell_type": "code",
   "execution_count": 1,
   "metadata": {},
   "outputs": [],
   "source": [
    "import torch\n",
    "from transformers import AutoModelForQuestionAnswering, BertForQuestionAnswering\n",
    "from transformers import BertTokenizer\n",
    "from tokenization_kobert import KoBertTokenizer\n",
    "import pandas as pd\n",
    "import csv\n",
    "from tqdm import tqdm_notebook"
   ]
  },
  {
   "cell_type": "code",
   "execution_count": 2,
   "metadata": {},
   "outputs": [],
   "source": [
    "# DEFAULT_PATH = '/home/fhdufhdu/vscode/Project/data/models/model_bert'\n",
    "# DEFAULT_PATH = '/home/fhdufhdu/vscode/Project/data/models/finetunedModel'\n",
    "DEFAULT_PATH = '/home/fhdufhdu/vscode/Project/KoreanHistoryProject/qa_model/models'\n",
    "\n",
    "\n",
    "class KoHisQnA:\n",
    "    def __init__(self, model_path=DEFAULT_PATH, tokenizer_path=DEFAULT_PATH):\n",
    "        self.change_path(model_path, tokenizer_path)\n",
    "\n",
    "    def change_path(self, model_path, tokenizer_path) -> None:\n",
    "        self.model_path = model_path\n",
    "        self.tokenizer_path = tokenizer_path\n",
    "\n",
    "        try:\n",
    "            del self.model, self.tokenizer\n",
    "        except:\n",
    "            print('...initailizing...')\n",
    "\n",
    "        self.model = BertForQuestionAnswering.from_pretrained(self.model_path)\n",
    "        self.tokenizer = BertTokenizer.from_pretrained(self.tokenizer_path)\n",
    "\n",
    "    def do_ask_to_model(self, question, context, add_special_tokens=True, return_tensors='pt') -> tuple:\n",
    "        inputs = self.tokenizer.encode_plus(\n",
    "            question, context, add_special_tokens=add_special_tokens, return_tensors=return_tensors)\n",
    "\n",
    "        # 모델에 데이터 집어넣기\n",
    "        answer_start_vector, answer_end_vector = self.model(**inputs)\n",
    "        as_idx = torch.argmax(answer_start_vector)\n",
    "        ae_idx = torch.argmax(answer_end_vector) + 1\n",
    "\n",
    "        # 정답을 구하기 위한 과기\n",
    "        input_ids = inputs[\"input_ids\"].tolist()[0]\n",
    "        text_tokens = self.tokenizer.convert_ids_to_tokens(input_ids)\n",
    "        answer = self.tokenizer.convert_tokens_to_string(\n",
    "            text_tokens[as_idx:ae_idx])\n",
    "        #print(text_tokens[as_idx:ae_idx])\n",
    "\n",
    "        return (int(as_idx), int(ae_idx), answer)\n",
    "\n",
    "# qa = KoHisQnA()\n",
    "# print(qa.do_ask_to_model('조선시대 4대 왕은?', '세종은 조선전기 제4대 왕. 세종은 재위 1418∼1450. 본관은 전주. 이름은 이도, 자는 원정. 태종의 셋째아들이며, 어머니는 원경왕후 민씨이다. 비는 심온의 딸 소헌왕후이다.1408년 충녕군에 봉해지고, 1412년 충녕대군에 진봉되었으며, 1418년 6월 왕세자에 책봉되었다가 같은 해 8월에 태종의 양위를 받아 즉위하였다.'))\n"
   ]
  },
  {
   "cell_type": "code",
   "execution_count": 3,
   "metadata": {},
   "outputs": [
    {
     "name": "stdout",
     "output_type": "stream",
     "text": [
      "...initailizing...\n",
      "total data num:  60501\n"
     ]
    },
    {
     "name": "stderr",
     "output_type": "stream",
     "text": [
      "/home/hsoh0423/anaconda3/envs/historyQA/lib/python3.7/site-packages/ipykernel_launcher.py:16: TqdmDeprecationWarning: This function will be removed in tqdm==5.0.0\n",
      "Please use `tqdm.notebook.tqdm` instead of `tqdm.tqdm_notebook`\n",
      "  app.launch_new_instance()\n"
     ]
    },
    {
     "data": {
      "application/vnd.jupyter.widget-view+json": {
       "model_id": "74c5a8ffd082499b99d8412fa4c7e5e3",
       "version_major": 2,
       "version_minor": 0
      },
      "text/plain": [
       "  0%|          | 0/60501 [00:00<?, ?it/s]"
      ]
     },
     "metadata": {},
     "output_type": "display_data"
    },
    {
     "name": "stdout",
     "output_type": "stream",
     "text": [
      "Correct count:  92 Except count:  250\n",
      "Correct count:  175 Except count:  434\n",
      "Correct count:  273 Except count:  620\n",
      "Correct count:  375 Except count:  858\n",
      "Correct count:  446 Except count:  1116\n",
      "Correct count:  528 Except count:  1392\n",
      "Correct count:  636 Except count:  1612\n",
      "Correct count:  725 Except count:  1867\n",
      "Correct count:  807 Except count:  2103\n",
      "Correct count:  895 Except count:  2374\n",
      "Correct count:  985 Except count:  2624\n",
      "Correct count:  1073 Except count:  2862\n",
      "Correct count:  1150 Except count:  3048\n",
      "Correct count:  1244 Except count:  3249\n",
      "Correct count:  1346 Except count:  3433\n",
      "Correct count:  1460 Except count:  3592\n",
      "Correct count:  1543 Except count:  3797\n",
      "Correct count:  1657 Except count:  3989\n",
      "Correct count:  1754 Except count:  4205\n",
      "Correct count:  1845 Except count:  4376\n",
      "Correct count:  1940 Except count:  4552\n",
      "Correct count:  2038 Except count:  4726\n",
      "Correct count:  2135 Except count:  4919\n",
      "Correct count:  2241 Except count:  5108\n",
      "Correct count:  2309 Except count:  5372\n",
      "Correct count:  2409 Except count:  5593\n",
      "Correct count:  2510 Except count:  5742\n",
      "Correct count:  2592 Except count:  5964\n",
      "Correct count:  2691 Except count:  6162\n",
      "Correct count:  2781 Except count:  6360\n",
      "Correct count:  2866 Except count:  6516\n",
      "Correct count:  2958 Except count:  6714\n",
      "Correct count:  3052 Except count:  6900\n",
      "Correct count:  3147 Except count:  7074\n",
      "Correct count:  3247 Except count:  7300\n",
      "Correct count:  3335 Except count:  7522\n",
      "Correct count:  3428 Except count:  7770\n",
      "Correct count:  3524 Except count:  7992\n",
      "Correct count:  3609 Except count:  8170\n",
      "Correct count:  3704 Except count:  8391\n",
      "Correct count:  3792 Except count:  8562\n",
      "Correct count:  3871 Except count:  8791\n",
      "Correct count:  3976 Except count:  9041\n",
      "Correct count:  4055 Except count:  9262\n",
      "Correct count:  4141 Except count:  9388\n",
      "Correct count:  4244 Except count:  9541\n",
      "Correct count:  4340 Except count:  9703\n",
      "Correct count:  4445 Except count:  9883\n",
      "Correct count:  4525 Except count:  10135\n",
      "Correct count:  4616 Except count:  10358\n",
      "Correct count:  4692 Except count:  10572\n",
      "Correct count:  4780 Except count:  10771\n",
      "Correct count:  4874 Except count:  10981\n",
      "Correct count:  4961 Except count:  11167\n",
      "Correct count:  5051 Except count:  11374\n",
      "Correct count:  5155 Except count:  11530\n",
      "Correct count:  5243 Except count:  11772\n",
      "Correct count:  5339 Except count:  11964\n",
      "Correct count:  5433 Except count:  12210\n",
      "Correct count:  5513 Except count:  12414\n",
      "done\n"
     ]
    }
   ],
   "source": [
    "qa = KoHisQnA()\n",
    "\n",
    "generated_quiz= pd.read_csv('/home/hsoh0423/vscode/HistoryQA/Generated_quiz_V3.csv')\n",
    "\n",
    "context = []\n",
    "question = []\n",
    "start_index = []\n",
    "last_index = []\n",
    "answers = []\n",
    "\n",
    "count = 0\n",
    "except_count = 0\n",
    "correct_count = 0\n",
    "\n",
    "print(\"total data num: \", len(generated_quiz['question']))\n",
    "for i in tqdm_notebook(range(len(generated_quiz['question'])))      :\n",
    "    try:\n",
    "        answer = qa.do_ask_to_model(generated_quiz['question'][i], generated_quiz['context'][i])\n",
    "        if(answer[2] == generated_quiz['answers'][i]):\n",
    "            context.append(generated_quiz['context'][i])\n",
    "            question.append(generated_quiz['question'][i])\n",
    "            start_index.append(answer[0])\n",
    "            last_index.append(answer[1])\n",
    "            answers.append(answer[2])\n",
    "            correct_count += 1\n",
    "    except:\n",
    "            except_count += 1\n",
    "    count += 1\n",
    "    if(count % 1000 == 0):\n",
    "        print(\"Correct count: \", correct_count, \"Except count: \", except_count)\n",
    "\n",
    "data = {\n",
    "    'context': context,\n",
    "    'question': question,\n",
    "    'start_index': start_index,\n",
    "    'last_index': last_index,\n",
    "    'answers': answers\n",
    "}\n",
    "df = pd.DataFrame(data)\n",
    "df.to_csv('Quiz_Data_Set.csv',index=False)\n",
    "print(\"done\")"
   ]
  }
 ],
 "metadata": {
  "interpreter": {
   "hash": "acf6e4abe0c500b723931f115c3e38565af0a1699b33a74e0337a5d37d48ad31"
  },
  "kernelspec": {
   "display_name": "Python 3.7.11 64-bit ('historyQA': conda)",
   "language": "python",
   "name": "python3"
  },
  "language_info": {
   "codemirror_mode": {
    "name": "ipython",
    "version": 3
   },
   "file_extension": ".py",
   "mimetype": "text/x-python",
   "name": "python",
   "nbconvert_exporter": "python",
   "pygments_lexer": "ipython3",
   "version": "3.7.11"
  },
  "orig_nbformat": 4
 },
 "nbformat": 4,
 "nbformat_minor": 2
}
