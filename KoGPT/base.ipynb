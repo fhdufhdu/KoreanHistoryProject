{
 "cells": [
  {
   "cell_type": "code",
   "execution_count": 1,
   "source": [
    "from transformers import PreTrainedTokenizerFast\n",
    "tokenizer = PreTrainedTokenizerFast.from_pretrained(\"skt/kogpt2-base-v2\",\n",
    "bos_token='</s>', eos_token='</s>', unk_token='<unk>',\n",
    "pad_token='<pad>', mask_token='<mask>') "
   ],
   "outputs": [],
   "metadata": {}
  },
  {
   "cell_type": "code",
   "execution_count": 2,
   "source": [
    "tokenizer.vocab_size"
   ],
   "outputs": [
    {
     "output_type": "execute_result",
     "data": {
      "text/plain": [
       "51200"
      ]
     },
     "metadata": {},
     "execution_count": 2
    }
   ],
   "metadata": {}
  },
  {
   "cell_type": "code",
   "execution_count": null,
   "source": [
    "tokenizer.tokenize(\"가서일은 삼국시대 일본에서 활약한 고구려 출신의 화가. 가서일은 일본 나라주구사에 소장된 천수국만다라수장의 뒷면 명문에서 확인된 화가로, 그 수장의 밑그림을 그렸다.이 천수국만다라수장은 621년 쇼도쿠태자가 죽은 1년 뒤에, 그의 부인의 하나인 다치바나가 태자의 명복을 빌기 위해 제작한 것이다.뒷면의 명문에는 화사 고려가서일, 동한말현, 한노가기리가 수장의 밑그림을 그렸다고 되어 있다. 이 천수국만다라수장은 자사와 황릉으로 짜여진 포 위에 백,적,황,청,녹색 등으로 수를 놓은 것이다.특히, 이 수장에 나타난 측면에서 보고 그린 연화문 및 인물 표현 중에서 저고리와 주름치마의 기법 등이 덕흥리벽화고분,쌍영총,수산리벽화고분 등 고구려 고분벽화와 흡사하여 고구려의 영향을 짐작하게 한다.\")"
   ],
   "outputs": [],
   "metadata": {}
  },
  {
   "cell_type": "code",
   "execution_count": 2,
   "source": [
    "from transformers import GPT2LMHeadModel\n",
    "\n",
    "model = GPT2LMHeadModel.from_pretrained('skt/kogpt2-base-v2')"
   ],
   "outputs": [],
   "metadata": {}
  },
  {
   "cell_type": "code",
   "execution_count": 3,
   "source": [
    "import torch\n",
    "text = '세종대왕은'\n",
    "input_ids = tokenizer.encode(text)\n",
    "gen_ids = model.generate(torch.tensor([input_ids]),\n",
    "                           max_length=128,\n",
    "                           repetition_penalty=2.0,\n",
    "                           pad_token_id=tokenizer.pad_token_id,\n",
    "                           eos_token_id=tokenizer.eos_token_id,\n",
    "                           bos_token_id=tokenizer.bos_token_id,\n",
    "                           use_cache=True)\n",
    "generated = tokenizer.decode(gen_ids[0,:].tolist())\n",
    "print(generated)"
   ],
   "outputs": [
    {
     "output_type": "stream",
     "name": "stderr",
     "text": [
      "2021-09-03 18:33:42.279410: W tensorflow/stream_executor/platform/default/dso_loader.cc:64] Could not load dynamic library 'libcudart.so.11.0'; dlerror: libcudart.so.11.0: cannot open shared object file: No such file or directory\n",
      "2021-09-03 18:33:42.279445: I tensorflow/stream_executor/cuda/cudart_stub.cc:29] Ignore above cudart dlerror if you do not have a GPU set up on your machine.\n"
     ]
    },
    {
     "output_type": "stream",
     "name": "stdout",
     "text": [
      "세종대왕은 이 같은 사실을 알고는 즉시 군사를 이끌고 평양으로 향했다.\n",
      "이때 김춘추가 이끄는 군사들이 평양에 도착하자 왕은 친히 군대를 거느리고 궁궐로 들어가기 시작했다.\n",
      "김춘추는 먼저 대궐을 나와서 왕에게 아뢰었다.\n",
      "\"내가 지금 무슨 일을 하고 있는 것이냐?\"\n",
      "왕이 대답하기를 \"그대는 내가 왕이 된 것을 축하하기 위해 왔다. 그런데 왜 나를 왕으로 인정하지 않느냐!\"고 하였다.\n",
      "이에 대해 김유신은 다음과 같이 말하였다.\n",
      "'나는 왕을 사랑하고 있다. 그러나 나는 왕의 뜻을 따르지 않는 것이다.'\n",
      "그러자 임금이 다시 물었다.\n",
      "“내 어찌 감히 나의 마음을 헤아리지 못하겠는가. 내 마음속에는 오직 한 가지 생각이 들어\n"
     ]
    }
   ],
   "metadata": {}
  }
 ],
 "metadata": {
  "orig_nbformat": 4,
  "language_info": {
   "name": "python",
   "version": "3.8.10",
   "mimetype": "text/x-python",
   "codemirror_mode": {
    "name": "ipython",
    "version": 3
   },
   "pygments_lexer": "ipython3",
   "nbconvert_exporter": "python",
   "file_extension": ".py"
  },
  "kernelspec": {
   "name": "python3",
   "display_name": "Python 3.8.10 64-bit ('sig': conda)"
  },
  "interpreter": {
   "hash": "d2b14d45667d810dd087ea6ba42aae735e12495e8e30bb3a44b9c20f61ae1194"
  }
 },
 "nbformat": 4,
 "nbformat_minor": 2
}