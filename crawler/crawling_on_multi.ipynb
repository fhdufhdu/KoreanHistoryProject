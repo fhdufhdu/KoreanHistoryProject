{
 "cells": [
  {
   "cell_type": "code",
   "execution_count": 1,
   "id": "86ff6a7f-ce3d-48d0-b20b-2cb9d967848b",
   "metadata": {},
   "outputs": [],
   "source": [
    "#!pip install multiprocess"
   ]
  },
  {
   "cell_type": "code",
   "execution_count": 2,
   "id": "c832fc4e-de96-4dfe-aff6-e3c2a11cddf4",
   "metadata": {},
   "outputs": [
    {
     "name": "stdout",
     "output_type": "stream",
     "text": [
      "importing Jupyter notebook from save_files.ipynb\n"
     ]
    }
   ],
   "source": [
    "import import_ipynb\n",
    "from crawler import start_crawling\n",
    "import subprocess\n",
    "from multiprocess import Process"
   ]
  },
  {
   "cell_type": "code",
   "execution_count": 3,
   "id": "1bcb1ff6-b940-4fb3-b51e-763981b7c870",
   "metadata": {},
   "outputs": [],
   "source": [
    "p_list = [Process(target=start_crawling, args=(i,)) for i in range(15)]"
   ]
  },
  {
   "cell_type": "code",
   "execution_count": null,
   "id": "eaf759f1-5129-4dd2-af55-4dc7d918608e",
   "metadata": {},
   "outputs": [],
   "source": [
    "for p in p_list:\n",
    "    p.start()\n",
    "for p in p_list:\n",
    "    p.join()"
   ]
  }
 ],
 "metadata": {
  "kernelspec": {
   "display_name": "sig",
   "language": "python",
   "name": "sig"
  },
  "language_info": {
   "codemirror_mode": {
    "name": "ipython",
    "version": 3
   },
   "file_extension": ".py",
   "mimetype": "text/x-python",
   "name": "python",
   "nbconvert_exporter": "python",
   "pygments_lexer": "ipython3",
   "version": "3.8.10"
  }
 },
 "nbformat": 4,
 "nbformat_minor": 5
}
