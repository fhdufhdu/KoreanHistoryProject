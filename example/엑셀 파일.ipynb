{
 "cells": [
  {
   "cell_type": "code",
   "execution_count": 199,
   "id": "binary-queensland",
   "metadata": {},
   "outputs": [],
   "source": [
    "import pandas as pd \n",
    "import re\n",
    "from tqdm import tqdm"
   ]
  },
  {
   "cell_type": "code",
   "execution_count": 9,
   "id": "social-oxide",
   "metadata": {},
   "outputs": [],
   "source": [
    "excel_data = pd.read_excel('naver_tech_it.xlsx', engine ='openpyxl')"
   ]
  },
  {
   "cell_type": "code",
   "execution_count": 11,
   "id": "limited-endorsement",
   "metadata": {},
   "outputs": [],
   "source": [
    "excel_data2 = pd.read_excel('naver_tech_it2.xlsx', engine ='openpyxl')\n",
    "excel_data3 = pd.read_excel('naver_tech_it3.xlsx', engine ='openpyxl')\n",
    "excel_data4 = pd.read_excel('naver_tech_it4.xlsx', engine ='openpyxl')"
   ]
  },
  {
   "cell_type": "code",
   "execution_count": 17,
   "id": "incredible-simon",
   "metadata": {},
   "outputs": [],
   "source": [
    "excel_data = pd.concat([excel_data, excel_data2, excel_data3, excel_data4])"
   ]
  },
  {
   "cell_type": "code",
   "execution_count": 20,
   "id": "arbitrary-inventory",
   "metadata": {},
   "outputs": [],
   "source": [
    "excel_data.to_excel('naver_it.xlsx')"
   ]
  },
  {
   "cell_type": "code",
   "execution_count": 2,
   "id": "sitting-mercury",
   "metadata": {},
   "outputs": [],
   "source": [
    "excel_data = pd.read_excel('naver_it.xlsx', engine ='openpyxl')"
   ]
  },
  {
   "cell_type": "code",
   "execution_count": 189,
   "id": "statutory-receipt",
   "metadata": {},
   "outputs": [],
   "source": [
    "subList = [\"<출처:[^>]*>\", \"^요약\", \"^약어\"]"
   ]
  },
  {
   "cell_type": "code",
   "execution_count": 200,
   "id": "organized-paste",
   "metadata": {},
   "outputs": [
    {
     "name": "stderr",
     "output_type": "stream",
     "text": [
      "100%|██████████████████████████████████████████████████████████████████████████████████████████████████████████████████████████████████████| 33743/33743 [00:02<00:00, 13843.29it/s]\n"
     ]
    }
   ],
   "source": [
    "for idx in tqdm(excel_data.index):\n",
    "    text = excel_data.iat[idx, 7]\n",
    "    \n",
    "    #불용어 처리\n",
    "    for subText in subList:\n",
    "        text = re.sub(subText, '', text)\n",
    "        \n",
    "    #여러개의 공백을 하나로 처리\n",
    "    text = re.sub(\"\\s+\", ' ', text)\n",
    "    excel_data.iat[idx, 7] = text"
   ]
  },
  {
   "cell_type": "code",
   "execution_count": 203,
   "id": "novel-large",
   "metadata": {},
   "outputs": [],
   "source": [
    "excel_data.to_excel('naver_it2.xlsx')"
   ]
  },
  {
   "cell_type": "code",
   "execution_count": 204,
   "id": "welsh-alert",
   "metadata": {},
   "outputs": [
    {
     "data": {
      "text/plain": [
       "0        인터넷 시대에 발맞춰 태어난 멀티미디어 파일 규격, MP4윈도우(Windows)나도...\n",
       "1        HEIF는 '고효율 이미지 파일 형식(High Efficiency Image Fil...\n",
       "2        ‘iOS9’애플이 2015년 9월 17일부터 모바일 기기용 운영체제(OS) ‘iOS...\n",
       "3        모바일 기기의 성능은 비약적으로 발전하고 있지만, 여전히 화면이 작다는 것은 치명적...\n",
       "4        LTE에서는 여러 개의 주파수를 섞어서 더 빠른 속도를 내는 기술이 적용된다.이동통...\n",
       "                               ...                        \n",
       "33738    상대방에게 국제전화를 되걸어주는 특수 서비스.국제전화요금이국가에 따라 다르게 적용되...\n",
       "33739    웹 문서의 전반적인 스타일을 미리 저장해 둔 스타일시트이다. 문서 전체의 일관성을 ...\n",
       "33740    은행에 직접 가지 않아도 통신과 컴퓨터를 이용하여 은행 구좌를 살필 수 있고, 주식...\n",
       "33741    방연석·실리콘·저마늄 등의 광석을 이용한, 동조회로·검파기 및 리시버로 이루어진 매...\n",
       "33742    정보시스템 감사 컨트롤 협회(ISACA)가 인증하는, 시스템을 독자적으로 점검 ·평...\n",
       "Name: main, Length: 33743, dtype: object"
      ]
     },
     "execution_count": 204,
     "metadata": {},
     "output_type": "execute_result"
    }
   ],
   "source": [
    "excel_data['main']"
   ]
  },
  {
   "cell_type": "code",
   "execution_count": 161,
   "id": "useful-staff",
   "metadata": {},
   "outputs": [],
   "source": [
    "r = re.compile(\"\\s*\")"
   ]
  },
  {
   "cell_type": "code",
   "execution_count": 162,
   "id": "partial-intellectual",
   "metadata": {},
   "outputs": [
    {
     "data": {
      "text/plain": [
       "<re.Match object; span=(0, 0), match=''>"
      ]
     },
     "execution_count": 162,
     "metadata": {},
     "output_type": "execute_result"
    }
   ],
   "source": [
    "r.search(text)"
   ]
  },
  {
   "cell_type": "markdown",
   "id": "african-firewall",
   "metadata": {},
   "source": [
    "출처 제거"
   ]
  },
  {
   "cell_type": "code",
   "execution_count": 110,
   "id": "under-finnish",
   "metadata": {},
   "outputs": [
    {
     "data": {
      "text/plain": [
       "['<출처: 레드햇 홈페이지>',\n",
       " '<출처: 레드햇 홈페이지>',\n",
       " '<출처: Market Realist>',\n",
       " '<출처: (cc)Steve Lowe@Wikimedia>',\n",
       " '<출처:opensource.com>',\n",
       " '<출처: (cc)Red Hat@flickr>']"
      ]
     },
     "execution_count": 110,
     "metadata": {},
     "output_type": "execute_result"
    }
   ],
   "source": [
    "re.findall(\"<출처:[^>]*>\", text)"
   ]
  },
  {
   "cell_type": "code",
   "execution_count": 95,
   "id": "arctic-disease",
   "metadata": {},
   "outputs": [
    {
     "data": {
      "text/plain": [
       "['요약']"
      ]
     },
     "execution_count": 95,
     "metadata": {},
     "output_type": "execute_result"
    }
   ],
   "source": [
    "re.findall(\"^요약\", text)"
   ]
  },
  {
   "cell_type": "code",
   "execution_count": 177,
   "id": "periodic-credits",
   "metadata": {},
   "outputs": [
    {
     "name": "stdout",
     "output_type": "stream",
     "text": [
      "약어SNOC아시아와 태평양 지역의 해저 통신망을 통합 관제하는 곳. KT에서 운용하며 2016년 6월 부산 송정에 개소되었다.국제 해저 케이블 통합 관제 센터(SNOC)는 초고선명(UHD) 방송데이터로밍과 5G 망 계통의 대량의 데이터를 제어하는 핵심 역할을 한다. \n",
      "\t\n",
      "\tKT에서 기존 운용하는 국제 해저 케이블과 아시아와 태평양 지역을 연결하는아시아 태평양 게이트웨이(APG : Asia Pacific Gateway) 해저 케이블과 태평양 횡단에 새로 구축되는 14,000 km의 태평양 횡단 새 해저 케이블(NCP : New Cross Pacific cable system)의 운용부터 위기 대응까지 컨트롤타워 역할을 한다. \n",
      "\t\n",
      "\t아시아 태평양 게이트웨이(APG)의 초당 38.4 테라비트(Tbps)의 전송 용량과 태평양 횡단 새 해저 케이블(NCP)의 초당 80 테라비트(Tbps)의 전송 용량을 합한 초당 118.4 테라비트(Tbps)의 전송 용량을 관리한다.\n"
     ]
    }
   ],
   "source": [
    "text = excel_data.iat[550, 7]\n",
    "print(text)"
   ]
  },
  {
   "cell_type": "code",
   "execution_count": 211,
   "id": "handled-advice",
   "metadata": {},
   "outputs": [],
   "source": [
    "excel_data.to_excel('naver_it2.xlsx')"
   ]
  },
  {
   "cell_type": "code",
   "execution_count": 212,
   "id": "appropriate-lincoln",
   "metadata": {},
   "outputs": [
    {
     "data": {
      "text/plain": [
       "source        0\n",
       "cid           0\n",
       "categoryId    0\n",
       "docId         0\n",
       "title         0\n",
       "main          0\n",
       "dtype: int64"
      ]
     },
     "execution_count": 212,
     "metadata": {},
     "output_type": "execute_result"
    }
   ],
   "source": [
    "excel_data.isnull().sum()"
   ]
  }
 ],
 "metadata": {
  "kernelspec": {
   "display_name": "Python 3",
   "language": "python",
   "name": "python3"
  },
  "language_info": {
   "codemirror_mode": {
    "name": "ipython",
    "version": 3
   },
   "file_extension": ".py",
   "mimetype": "text/x-python",
   "name": "python",
   "nbconvert_exporter": "python",
   "pygments_lexer": "ipython3",
   "version": "3.7.0"
  }
 },
 "nbformat": 4,
 "nbformat_minor": 5
}
