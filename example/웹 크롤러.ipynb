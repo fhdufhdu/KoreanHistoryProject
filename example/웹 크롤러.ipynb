{
 "cells": [
  {
   "cell_type": "markdown",
   "metadata": {},
   "source": [
    "# 기본 준비"
   ]
  },
  {
   "cell_type": "code",
   "execution_count": 269,
   "metadata": {},
   "outputs": [],
   "source": [
    "from bs4 import BeautifulSoup\n",
    "import requests\n",
    "from tqdm import tqdm\n",
    "import unicodedata\n",
    "import json\n",
    "import pandas as pd"
   ]
  },
  {
   "cell_type": "code",
   "execution_count": 3,
   "metadata": {},
   "outputs": [],
   "source": [
    "webpage = requests.get(\"https://terms.naver.com/list.nhn?cid=59088&categoryId=59088&page=1\")\n",
    "soup = BeautifulSoup(webpage.content, \"html.parser\")"
   ]
  },
  {
   "cell_type": "markdown",
   "metadata": {},
   "source": [
    "## 페이지에서 주소"
   ]
  },
  {
   "cell_type": "code",
   "execution_count": 47,
   "metadata": {},
   "outputs": [
    {
     "data": {
      "text/plain": [
       "'/entry.nhn?docId=5662083&cid=59088&categoryId=59096'"
      ]
     },
     "execution_count": 47,
     "metadata": {},
     "output_type": "execute_result"
    }
   ],
   "source": [
    "#주소를 가져오는 메소드\n",
    "soup.find(attrs={'class':'content_list'}).find('a').get('href')"
   ]
  },
  {
   "cell_type": "code",
   "execution_count": 38,
   "metadata": {},
   "outputs": [
    {
     "data": {
      "text/plain": [
       "<strong class=\"title\">\n",
       "<a href=\"/entry.nhn?docId=5662083&amp;cid=59088&amp;categoryId=59096\" onclick=\"nclk(this, 'tml.termlist', '', '', 1);\">서피스 허브 - 협업에 최적화된 대화면 멀티터치 태블릿</a>\n",
       "<a class=\"btn_txt __TLIST_PUT\" data-contentsid=\"5662083\" data-servicecode=\"TERMS\" href=\"#\" onclick=\"nclk(this, 'tml.kadd','', '', 1)\">담기</a>\n",
       "</strong>"
      ]
     },
     "execution_count": 38,
     "metadata": {},
     "output_type": "execute_result"
    }
   ],
   "source": [
    "# 제목에서만 주소를 가져옴\n",
    "soup.find(attrs={'class':'content_list'}).find(attrs={'class':'title'})"
   ]
  },
  {
   "cell_type": "code",
   "execution_count": 37,
   "metadata": {},
   "outputs": [
    {
     "data": {
      "text/plain": [
       "15"
      ]
     },
     "execution_count": 37,
     "metadata": {},
     "output_type": "execute_result"
    }
   ],
   "source": [
    "len(soup.find(attrs={'class':'content_list'}).find_all(attrs={'class':'title'}))"
   ]
  },
  {
   "cell_type": "code",
   "execution_count": 50,
   "metadata": {},
   "outputs": [
    {
     "name": "stdout",
     "output_type": "stream",
     "text": [
      "/entry.nhn?docId=5662083&cid=59088&categoryId=59096\n",
      "/entry.nhn?docId=5661610&cid=59088&categoryId=59096\n",
      "/entry.nhn?docId=5646659&cid=59088&categoryId=59096\n",
      "/entry.nhn?docId=5645660&cid=59088&categoryId=59096\n",
      "/entry.nhn?docId=5644882&cid=59088&categoryId=59096\n",
      "/entry.nhn?docId=5570670&cid=59088&categoryId=59096\n",
      "/entry.nhn?docId=5570443&cid=59088&categoryId=59096\n",
      "/entry.nhn?docId=5570130&cid=59088&categoryId=59096\n",
      "/entry.nhn?docId=5569373&cid=59088&categoryId=59096\n",
      "/entry.nhn?docId=5568551&cid=59088&categoryId=59096\n",
      "/entry.nhn?docId=5551241&cid=59088&categoryId=59096\n",
      "/entry.nhn?docId=5550804&cid=59088&categoryId=59096\n",
      "/entry.nhn?docId=5148680&cid=59088&categoryId=59096\n",
      "/entry.nhn?docId=5145967&cid=59088&categoryId=59096\n",
      "/entry.nhn?docId=5144656&cid=59088&categoryId=59096\n"
     ]
    }
   ],
   "source": [
    "#한 메인 페이지에 포함된 링크 를 구함\n",
    "for data in soup.find(attrs={'class':'content_list'}).find_all(attrs={'class':'title'}) :\n",
    "    print(data.find('a').get('href'))"
   ]
  },
  {
   "cell_type": "code",
   "execution_count": 121,
   "metadata": {},
   "outputs": [
    {
     "data": {
      "text/plain": [
       "3570731"
      ]
     },
     "execution_count": 121,
     "metadata": {},
     "output_type": "execute_result"
    }
   ],
   "source": [
    "#문서 번호 구하기\n",
    "target = soup.find(attrs={'class':'content_list'}).find(attrs={'class':'title'}).find('a').get('href')\n",
    "start = int(target.find(\"docId=\"))\n",
    "end = int(target.find(\"&cid\"))\n",
    "docId = int(target[start + 6:end])\n",
    "docId"
   ]
  },
  {
   "cell_type": "markdown",
   "metadata": {},
   "source": [
    "## 페이지 주소 구하기"
   ]
  },
  {
   "cell_type": "code",
   "execution_count": 51,
   "metadata": {},
   "outputs": [
    {
     "data": {
      "text/plain": [
       "<div class=\"paginate\" id=\"paginate\">\n",
       "<span class=\"prev disabled\"><a href=\"#\" onclick=\"return false;\">이전</a><i class=\"ico_bar\"></i></span>\n",
       "<strong>1</strong>\n",
       "<a href=\"/list.nhn?cid=59088&amp;categoryId=59088&amp;page=2\" onclick=\"nclk(this, 'pag.paging', '', '2', 1)\">2</a>\n",
       "<a href=\"/list.nhn?cid=59088&amp;categoryId=59088&amp;page=3\" onclick=\"nclk(this, 'pag.paging', '', '3', 1)\">3</a>\n",
       "<a href=\"/list.nhn?cid=59088&amp;categoryId=59088&amp;page=4\" onclick=\"nclk(this, 'pag.paging', '', '4', 1)\">4</a>\n",
       "<a href=\"/list.nhn?cid=59088&amp;categoryId=59088&amp;page=5\" onclick=\"nclk(this, 'pag.paging', '', '5', 1)\">5</a>\n",
       "<a href=\"/list.nhn?cid=59088&amp;categoryId=59088&amp;page=6\" onclick=\"nclk(this, 'pag.paging', '', '6', 1)\">6</a>\n",
       "<a href=\"/list.nhn?cid=59088&amp;categoryId=59088&amp;page=7\" onclick=\"nclk(this, 'pag.paging', '', '7', 1)\">7</a>\n",
       "<a href=\"/list.nhn?cid=59088&amp;categoryId=59088&amp;page=8\" onclick=\"nclk(this, 'pag.paging', '', '8', 1)\">8</a>\n",
       "<a href=\"/list.nhn?cid=59088&amp;categoryId=59088&amp;page=9\" onclick=\"nclk(this, 'pag.paging', '', '9', 1)\">9</a>\n",
       "<a href=\"/list.nhn?cid=59088&amp;categoryId=59088&amp;page=10\" onclick=\"nclk(this, 'pag.paging', '', '10', 1)\">10</a>\n",
       "<span class=\"next\"><i class=\"ico_bar\"></i><a href=\"/list.nhn?cid=59088&amp;categoryId=59088&amp;page=11\" onclick=\"nclk(this, 'pag.next', '', '', 1);\">다음</a></span>\n",
       "</div>"
      ]
     },
     "execution_count": 51,
     "metadata": {},
     "output_type": "execute_result"
    }
   ],
   "source": [
    "soup.find(attrs={'class':'paginate'})"
   ]
  },
  {
   "cell_type": "code",
   "execution_count": 59,
   "metadata": {},
   "outputs": [
    {
     "data": {
      "text/plain": [
       "1"
      ]
     },
     "execution_count": 59,
     "metadata": {},
     "output_type": "execute_result"
    }
   ],
   "source": [
    "#현재 페이지 번호 구하기\n",
    "now = soup.find(attrs={'class':'paginate'}).find('strong').text\n",
    "now = int(now)\n",
    "now"
   ]
  },
  {
   "cell_type": "code",
   "execution_count": 88,
   "metadata": {},
   "outputs": [
    {
     "data": {
      "text/plain": [
       "True"
      ]
     },
     "execution_count": 88,
     "metadata": {},
     "output_type": "execute_result"
    }
   ],
   "source": [
    "#현재 페이지가 올바른 페이지인지 확인\n",
    "int(soup.find(attrs={'class':'paginate'}).find('strong').text) == now"
   ]
  },
  {
   "cell_type": "markdown",
   "metadata": {},
   "source": [
    "## 크롤러"
   ]
  },
  {
   "cell_type": "code",
   "execution_count": 227,
   "metadata": {},
   "outputs": [],
   "source": [
    "docs = set()"
   ]
  },
  {
   "cell_type": "code",
   "execution_count": 1,
   "metadata": {},
   "outputs": [],
   "source": [
    "cid = 42346\n",
    "categoryId = 42346"
   ]
  },
  {
   "cell_type": "code",
   "execution_count": 2,
   "metadata": {},
   "outputs": [],
   "source": [
    "targetAdress = \"https://terms.naver.com/list.nhn?cid=\" + str(cid) + \"&categoryId=\" + str(categoryId) + \"&page=\"\n",
    "maxRange = 100"
   ]
  },
  {
   "cell_type": "code",
   "execution_count": 237,
   "metadata": {},
   "outputs": [
    {
     "name": "stderr",
     "output_type": "stream",
     "text": [
      "100%|██████████████████████████████████████████████████████████████████████████████████████████| 15/15 [00:00<?, ?it/s]\n",
      "100%|██████████████████████████████████████████████████████████████████████████████████████████| 15/15 [00:00<?, ?it/s]\n",
      "100%|██████████████████████████████████████████████████████████████████████████████████████████| 15/15 [00:00<?, ?it/s]\n",
      "100%|██████████████████████████████████████████████████████████████████████████████████████████| 15/15 [00:00<?, ?it/s]\n",
      "100%|██████████████████████████████████████████████████████████████████████████████████████████| 15/15 [00:00<?, ?it/s]\n",
      "100%|██████████████████████████████████████████████████████████████████████████████████████████| 15/15 [00:00<?, ?it/s]\n",
      "100%|██████████████████████████████████████████████████████████████████████████████████████████| 15/15 [00:00<?, ?it/s]\n",
      "100%|██████████████████████████████████████████████████████████████████████████████████████████| 15/15 [00:00<?, ?it/s]\n",
      "100%|██████████████████████████████████████████████████████████████████████████████████████████| 15/15 [00:00<?, ?it/s]\n",
      "100%|██████████████████████████████████████████████████████████████████████████████████████████| 15/15 [00:00<?, ?it/s]\n",
      "100%|██████████████████████████████████████████████████████████████████████████████████████████| 15/15 [00:00<?, ?it/s]\n",
      "100%|██████████████████████████████████████████████████████████████████████████████████████████| 15/15 [00:00<?, ?it/s]\n",
      "100%|██████████████████████████████████████████████████████████████████████████████████████████| 15/15 [00:00<?, ?it/s]\n",
      "100%|██████████████████████████████████████████████████████████████████████████████████████████| 15/15 [00:00<?, ?it/s]\n",
      "100%|██████████████████████████████████████████████████████████████████████████████████████████| 15/15 [00:00<?, ?it/s]\n",
      "100%|███████████████████████████████████████████████████████████████████████████████| 15/15 [00:00<00:00, 15152.83it/s]\n",
      "100%|██████████████████████████████████████████████████████████████████████████████████████████| 15/15 [00:00<?, ?it/s]\n",
      "100%|██████████████████████████████████████████████████████████████████████████████████████████| 15/15 [00:00<?, ?it/s]\n",
      "100%|██████████████████████████████████████████████████████████████████████████████████████████| 15/15 [00:00<?, ?it/s]\n",
      "100%|██████████████████████████████████████████████████████████████████████████████████████████| 15/15 [00:00<?, ?it/s]\n",
      "100%|██████████████████████████████████████████████████████████████████████████████████████████| 15/15 [00:00<?, ?it/s]\n",
      "100%|██████████████████████████████████████████████████████████████████████████████████████████| 15/15 [00:00<?, ?it/s]\n",
      "100%|██████████████████████████████████████████████████████████████████████████████████████████| 15/15 [00:00<?, ?it/s]\n",
      "100%|██████████████████████████████████████████████████████████████████████████████████████████| 15/15 [00:00<?, ?it/s]\n",
      "100%|██████████████████████████████████████████████████████████████████████████████████████████| 15/15 [00:00<?, ?it/s]\n",
      "100%|██████████████████████████████████████████████████████████████████████████████████████████| 15/15 [00:00<?, ?it/s]\n",
      "100%|██████████████████████████████████████████████████████████████████████████████████████████| 15/15 [00:00<?, ?it/s]\n",
      "100%|██████████████████████████████████████████████████████████████████████████████████████████| 15/15 [00:00<?, ?it/s]\n",
      "100%|██████████████████████████████████████████████████████████████████████████████████████████| 15/15 [00:00<?, ?it/s]\n",
      "100%|██████████████████████████████████████████████████████████████████████████████████████████| 15/15 [00:00<?, ?it/s]\n",
      "100%|████████████████████████████████████████████████████████████████████████████████████████████| 2/2 [00:00<?, ?it/s]\n"
     ]
    }
   ],
   "source": [
    "for i in range(1, maxRange) :\n",
    "    webpage = requests.get(targetAdress + str(i))\n",
    "    soup = BeautifulSoup(webpage.content, \"html.parser\")\n",
    "    \n",
    "    if int(soup.find(attrs={'class':'paginate'}).find('strong').text) != i:\n",
    "        break;\n",
    "    \n",
    "    for data in tqdm(soup.find(attrs={'class':'content_list'}).find_all(attrs={'class':'title'})) :\n",
    "        target = data.find('a').get('href')\n",
    "        start = int(target.find(\"docId=\"))\n",
    "        end = int(target.find(\"&cid\"))\n",
    "        docs.add(int(target[start + 6:end]))"
   ]
  },
  {
   "cell_type": "code",
   "execution_count": 233,
   "metadata": {},
   "outputs": [
    {
     "data": {
      "text/plain": [
       "512"
      ]
     },
     "execution_count": 233,
     "metadata": {},
     "output_type": "execute_result"
    }
   ],
   "source": [
    "len(docs)"
   ]
  },
  {
   "cell_type": "markdown",
   "metadata": {},
   "source": [
    "## 한 페이지에서 데이터 가져오기"
   ]
  },
  {
   "cell_type": "code",
   "execution_count": 218,
   "metadata": {},
   "outputs": [],
   "source": [
    "webpage = requests.get(\"https://terms.naver.com/entry.nhn?docId=5662083&cid=59088&categoryId=59096\")\n",
    "soup = BeautifulSoup(webpage.content, \"html.parser\")"
   ]
  },
  {
   "cell_type": "code",
   "execution_count": 219,
   "metadata": {
    "scrolled": true
   },
   "outputs": [
    {
     "name": "stdout",
     "output_type": "stream",
     "text": [
      "<div class=\"se_textView se_mediaCaption\">\n",
      "<span class=\"se_textarea\">| 서피스 허브 &lt;출처: 마이크로소프트&gt;</span>\n",
      "</div>\n",
      "<div class=\"se_textView se_mediaCaption\">\n",
      "<span class=\"se_textarea\">| 서피스 허브 2 &lt;출처: 마이크로소프트&gt;</span>\n",
      "</div>\n",
      "<div class=\"se_textView se_mediaCaption\">\n",
      "<span class=\"se_textarea\">| 협업용으로 만들어진 오피스 기기, 서피스 허브 2 &lt;출처: 마이크로소프트&gt;</span>\n",
      "</div>\n",
      "<div class=\"se_textView se_mediaCaption\">\n",
      "<span class=\"se_textarea\">| 서피스 허브 2는 업무 공간에 따라 가로 혹은 세로로 쓸 수 있다. &lt;출처: 마이크로소프트&gt;</span>\n",
      "</div>\n",
      "<div class=\"se_textView se_mediaCaption\">\n",
      "<span class=\"se_textarea\">| 서피스 허브 2 4대를 가로로 붙인 모습. &lt;출처: 마이크로소프트&gt;</span>\n",
      "</div>\n",
      "<div class=\"se_textView se_mediaCaption\">\n",
      "<span class=\"se_textarea\">| 서피스 허브 2 여러 대를 붙여 하나의 화면으로 쓰거나 별도 화면으로 분리해 쓸 수 있다. &lt;출처: 마이크로소프트&gt;</span>\n",
      "</div>\n"
     ]
    }
   ],
   "source": [
    "#출처 표기 제거\n",
    "for data in soup.find(attrs={'class':'size_ct_v2'}).find_all(attrs={'class':'se_textView se_mediaCaption'}) :\n",
    "    print(data.extract())"
   ]
  },
  {
   "cell_type": "code",
   "execution_count": 221,
   "metadata": {},
   "outputs": [
    {
     "name": "stdout",
     "output_type": "stream",
     "text": [
      "서피스 허브\n"
     ]
    }
   ],
   "source": [
    "#제목\n",
    "title = unicodedata.normalize(\"NFKD\", soup.find(attrs={'class':'headword'}).get_text(strip=True))\n",
    "print(title)"
   ]
  },
  {
   "cell_type": "code",
   "execution_count": 224,
   "metadata": {},
   "outputs": [
    {
     "name": "stdout",
     "output_type": "stream",
     "text": [
      "요약서피스 허브는 마이크로소프트(MS)가 선보인 협업용 태블릿이다. 협업에 최적화돼 설계됐다. 2016년 1세대 서피스 허브가 2만1999달러에 출시됐다. 2세대인 서피스 허브 2(Surface Hub 2)는  1세대가 출시된 지 2년여 만인 2018년 5월 16일 공개됐다.외국어 표기Surface Hub서피스 허브서피스 허브는 마이크로소프트(MS)가 2015년 1월 22일 최초 공개한 벽걸이형 대형 태블릿이다. 개인용이 아닌 협업용으로 설계됐다. 제품 공식 출시는 최초 공개로부터 15개월 후인 2016년 이뤄졌다. 단순히 크기를 확대한 태블릿이 아니라 협업에 최적화돼 만들어졌다는 점이 특징이다.서비프 허브는 84형 4K 터치 스크린을 가지고 있고 양 측면에는 1080p 카메라가 배치돼 있다.서피스 허브는 회의실이나 컨퍼런스 룸을 겨냥한 기기다. 손가락이나 스타일러스 펜을 이용해 회의 내용을 기록·공유할 수 있다. 일종의 전자칠판인 셈이다. 여기에 음성인식을 지원하고 동작인식 센서가 탑재된 카메라를 달아 오디오·비디오 컨퍼런스를 효과적으로 진행하게 돕는다.서피스 허브는 마이크로소프트가 2012년 인수한 퍼셉티브 픽셀 기술로 탄생했다. 퍼셉티브 픽셀 창업자이자 CEO인 제프 한(Jeff Han)은 멀티터치 기술을 이용한 UI를 2006년 선보여 세계를 놀라게 했다. 이후 이 기술을 발전시켜 TV 형태의 멀티터치 태블릿 서피스 허브를 탄생시켰다.서피스 허브 2 : 업그레이드된 업무용 디바이스MS는 2016년 1세대 서피스 허브 출시 이후 2년여 만인 2018년 5월 16일 '서피스 허브 2'를 공개했다. 서피스 허브 2에는 원거리 마이크를 이용한 원격회의 시스템, 4K 카메라 등이 탑재돼 있어 다양한 공동작업이 가능하다. 여러 사용자가 손쉽게 동시 로그인할 수 있고, 작업 내용은 클라우드에 저장된다.서피스 허브 2는 1세대인 서피스 허브보다 디스플레이 기능이 향상됐다. 사무 공간에 맞춰 기기를 가로 혹은 세로로 설정할 수 있고 '타일링(tiling)'이라는 기능을 사용하면 서피스 허브 2를 가로나 세로 방향으로 최대 4대까지 배치해 거대한 하나의 화면으로 활용할 수도 있다. 거대한 화면에 여러 업무 도구를띄워놓고 터치 조작으로 업무를 할 수 있는 점이 특징이다.서피스 허브 2에는 50.5인치 고해상도 4K 멀티터치 디스플레이가 탑재됐고 아주 얇은 베젤과 3:2 디스플레이 비율을 가지고 있다. 1세대 서피스 허브가 55인치와 84인치, 두 개의 디스플레이 옵션을 가졌던 것과 달리 디스플레이 옵션을 하나로 통일했다.서피스 허브 2는 윈도우 10, 오피스 365에 최적화된 대화면 멀티터치 태블릿으로 마이크로소프트 팀즈, 마이크로소프트 화이트보드뿐 아니라 다양한 지능형 클라우드 서비스 등을 극대화해 사용할 수 있도록 디자인됐다.서피스 허브 2 : 2019년 판매 시작, 가격은 미정서피스 허브 2는 2019년 공식 출시될 예정이다. 출시와 함께 공식적인 판매가 시작된다. 일부 고객을 대상으로 2018년부터 테스트를 진행할 예정이다. MS는 아직 구체적인 가격 정보를 내놓지 않았다.※ 참고문헌–『MS, 대화면 멀티터치 태블릿 ‘서피스 허브2’ 공개』, 이기범, 블로터 (2018.05.16)이번 호를 끝으로 네이버캐스트 '용어로 보는 IT' 시리즈는 종료됩니다. 그 동안 '용어로 보는 IT' 시리즈를 이용해주셔서 고맙습니다.\n"
     ]
    }
   ],
   "source": [
    "#본문\n",
    "main = unicodedata.normalize(\"NFKD\", soup.find(attrs={'class':'size_ct_v2'}).get_text(strip=True))\n",
    "print(main)"
   ]
  },
  {
   "cell_type": "markdown",
   "metadata": {},
   "source": [
    "## 페이지 번호들로 최종 데이터 만들기"
   ]
  },
  {
   "cell_type": "code",
   "execution_count": 281,
   "metadata": {},
   "outputs": [],
   "source": [
    "datas = list()"
   ]
  },
  {
   "cell_type": "code",
   "execution_count": 282,
   "metadata": {},
   "outputs": [
    {
     "name": "stderr",
     "output_type": "stream",
     "text": [
      "100%|████████████████████████████████████████████████████████████████████████████████| 512/512 [04:07<00:00,  2.07it/s]\n"
     ]
    }
   ],
   "source": [
    "for docId in tqdm(docs):\n",
    "    targetAdress = \"https://terms.naver.com/entry.nhn?docId=\"+ str(docId) + \"&cid=\" + str(cid) + \"&categoryId=\" + str(categoryId)\n",
    "    webpage = requests.get(targetAdress)\n",
    "    soup = BeautifulSoup(webpage.content, \"html.parser\")\n",
    "    \n",
    "    #출처 표기 제거\n",
    "    for data in soup.find(attrs={'class':'size_ct_v2'}).find_all(attrs={'class':'se_textView se_mediaCaption'}) :\n",
    "        data.extract()\n",
    "        \n",
    "    #제목\n",
    "    title = unicodedata.normalize(\"NFC\", soup.find(attrs={'class':'headword'}).get_text(strip=True))\n",
    "    \n",
    "    #본문\n",
    "    main = unicodedata.normalize(\"NFC\", soup.find(attrs={'class':'size_ct_v2'}).get_text(strip=True)) \n",
    "    \n",
    "    dic = {'source' : 'https://terms.naver.com','cid': cid, 'categoryId':categoryId, 'docId': docId,'title': title, 'main':main}\n",
    "    datas.append(dic)"
   ]
  },
  {
   "cell_type": "code",
   "execution_count": 283,
   "metadata": {},
   "outputs": [],
   "source": [
    "df = pd.DataFrame(datas)"
   ]
  },
  {
   "cell_type": "code",
   "execution_count": 284,
   "metadata": {},
   "outputs": [
    {
     "data": {
      "text/html": [
       "<div>\n",
       "<style scoped>\n",
       "    .dataframe tbody tr th:only-of-type {\n",
       "        vertical-align: middle;\n",
       "    }\n",
       "\n",
       "    .dataframe tbody tr th {\n",
       "        vertical-align: top;\n",
       "    }\n",
       "\n",
       "    .dataframe thead th {\n",
       "        text-align: right;\n",
       "    }\n",
       "</style>\n",
       "<table border=\"1\" class=\"dataframe\">\n",
       "  <thead>\n",
       "    <tr style=\"text-align: right;\">\n",
       "      <th></th>\n",
       "      <th>source</th>\n",
       "      <th>cid</th>\n",
       "      <th>categoryId</th>\n",
       "      <th>docId</th>\n",
       "      <th>title</th>\n",
       "      <th>main</th>\n",
       "    </tr>\n",
       "  </thead>\n",
       "  <tbody>\n",
       "    <tr>\n",
       "      <th>0</th>\n",
       "      <td>https://terms.naver.com</td>\n",
       "      <td>59088</td>\n",
       "      <td>59088</td>\n",
       "      <td>3573766</td>\n",
       "      <td>MP4</td>\n",
       "      <td>인터넷 시대에 발맞춰 태어난 멀티미디어 파일 규격, MP4윈도우(Windows)나도...</td>\n",
       "    </tr>\n",
       "    <tr>\n",
       "      <th>1</th>\n",
       "      <td>https://terms.naver.com</td>\n",
       "      <td>59088</td>\n",
       "      <td>59088</td>\n",
       "      <td>5148680</td>\n",
       "      <td>HEIF(고효율 이미지 파일 형식)</td>\n",
       "      <td>요약HEIF는 '고효율 이미지 파일 형식(High Efficiency Image F...</td>\n",
       "    </tr>\n",
       "    <tr>\n",
       "      <th>2</th>\n",
       "      <td>https://terms.naver.com</td>\n",
       "      <td>59088</td>\n",
       "      <td>59088</td>\n",
       "      <td>3579922</td>\n",
       "      <td>iOS9</td>\n",
       "      <td>‘iOS9’애플이 2015년 9월 17일부터 모바일 기기용 운영체제(OS) ‘iOS...</td>\n",
       "    </tr>\n",
       "    <tr>\n",
       "      <th>3</th>\n",
       "      <td>https://terms.naver.com</td>\n",
       "      <td>59088</td>\n",
       "      <td>59088</td>\n",
       "      <td>3577875</td>\n",
       "      <td>무선 디스플레이 전송 기술</td>\n",
       "      <td>모바일 기기의 성능은 비약적으로 발전하고 있지만, 여전히 화면이 작다는 것은 치명적...</td>\n",
       "    </tr>\n",
       "    <tr>\n",
       "      <th>4</th>\n",
       "      <td>https://terms.naver.com</td>\n",
       "      <td>59088</td>\n",
       "      <td>59088</td>\n",
       "      <td>3575828</td>\n",
       "      <td>캐리어 어그리게이션</td>\n",
       "      <td>LTE에서는 여러 개의 주파수를 섞어서 더 빠른 속도를 내는 기술이 적용된다.이동통...</td>\n",
       "    </tr>\n",
       "    <tr>\n",
       "      <th>...</th>\n",
       "      <td>...</td>\n",
       "      <td>...</td>\n",
       "      <td>...</td>\n",
       "      <td>...</td>\n",
       "      <td>...</td>\n",
       "      <td>...</td>\n",
       "    </tr>\n",
       "    <tr>\n",
       "      <th>507</th>\n",
       "      <td>https://terms.naver.com</td>\n",
       "      <td>59088</td>\n",
       "      <td>59088</td>\n",
       "      <td>3571698</td>\n",
       "      <td>DSLR 카메라</td>\n",
       "      <td>필름카메라는 렌즈를 통해 빛을 받아들여 이를 필름에 감광(빛을 쪼여 영상을 새김)시...</td>\n",
       "    </tr>\n",
       "    <tr>\n",
       "      <th>508</th>\n",
       "      <td>https://terms.naver.com</td>\n",
       "      <td>59088</td>\n",
       "      <td>59088</td>\n",
       "      <td>3577843</td>\n",
       "      <td>스마트밴드</td>\n",
       "      <td>요즘도 ‘만보계’를 쓰는 이가 있을까. 하루에 1만 걸음 정도는 걸어야 건강하게 살...</td>\n",
       "    </tr>\n",
       "    <tr>\n",
       "      <th>509</th>\n",
       "      <td>https://terms.naver.com</td>\n",
       "      <td>59088</td>\n",
       "      <td>59088</td>\n",
       "      <td>3575795</td>\n",
       "      <td>샵메일(#메일)</td>\n",
       "      <td>2012년 8월28일 국무회의에서 ‘전자거래기본법 시행령 개정안’이 의결됐다. 일명...</td>\n",
       "    </tr>\n",
       "    <tr>\n",
       "      <th>510</th>\n",
       "      <td>https://terms.naver.com</td>\n",
       "      <td>59088</td>\n",
       "      <td>59088</td>\n",
       "      <td>3573750</td>\n",
       "      <td>랜카드</td>\n",
       "      <td>네트워크(인터넷)에 연결되지 않은컴퓨터는 바보상자로 취급될 정도로 현대의 컴퓨터 사...</td>\n",
       "    </tr>\n",
       "    <tr>\n",
       "      <th>511</th>\n",
       "      <td>https://terms.naver.com</td>\n",
       "      <td>59088</td>\n",
       "      <td>59088</td>\n",
       "      <td>3579902</td>\n",
       "      <td>인스타그램</td>\n",
       "      <td>인스턴트 + 텔레그램 = 인스타그램‘인스타그램’은 사진 및 동영상을 공유할 수 있는...</td>\n",
       "    </tr>\n",
       "  </tbody>\n",
       "</table>\n",
       "<p>512 rows × 6 columns</p>\n",
       "</div>"
      ],
      "text/plain": [
       "                      source    cid  categoryId    docId                title  \\\n",
       "0    https://terms.naver.com  59088       59088  3573766                  MP4   \n",
       "1    https://terms.naver.com  59088       59088  5148680  HEIF(고효율 이미지 파일 형식)   \n",
       "2    https://terms.naver.com  59088       59088  3579922                 iOS9   \n",
       "3    https://terms.naver.com  59088       59088  3577875       무선 디스플레이 전송 기술   \n",
       "4    https://terms.naver.com  59088       59088  3575828           캐리어 어그리게이션   \n",
       "..                       ...    ...         ...      ...                  ...   \n",
       "507  https://terms.naver.com  59088       59088  3571698             DSLR 카메라   \n",
       "508  https://terms.naver.com  59088       59088  3577843                스마트밴드   \n",
       "509  https://terms.naver.com  59088       59088  3575795             샵메일(#메일)   \n",
       "510  https://terms.naver.com  59088       59088  3573750                  랜카드   \n",
       "511  https://terms.naver.com  59088       59088  3579902                인스타그램   \n",
       "\n",
       "                                                  main  \n",
       "0    인터넷 시대에 발맞춰 태어난 멀티미디어 파일 규격, MP4윈도우(Windows)나도...  \n",
       "1    요약HEIF는 '고효율 이미지 파일 형식(High Efficiency Image F...  \n",
       "2    ‘iOS9’애플이 2015년 9월 17일부터 모바일 기기용 운영체제(OS) ‘iOS...  \n",
       "3    모바일 기기의 성능은 비약적으로 발전하고 있지만, 여전히 화면이 작다는 것은 치명적...  \n",
       "4    LTE에서는 여러 개의 주파수를 섞어서 더 빠른 속도를 내는 기술이 적용된다.이동통...  \n",
       "..                                                 ...  \n",
       "507  필름카메라는 렌즈를 통해 빛을 받아들여 이를 필름에 감광(빛을 쪼여 영상을 새김)시...  \n",
       "508  요즘도 ‘만보계’를 쓰는 이가 있을까. 하루에 1만 걸음 정도는 걸어야 건강하게 살...  \n",
       "509  2012년 8월28일 국무회의에서 ‘전자거래기본법 시행령 개정안’이 의결됐다. 일명...  \n",
       "510  네트워크(인터넷)에 연결되지 않은컴퓨터는 바보상자로 취급될 정도로 현대의 컴퓨터 사...  \n",
       "511  인스턴트 + 텔레그램 = 인스타그램‘인스타그램’은 사진 및 동영상을 공유할 수 있는...  \n",
       "\n",
       "[512 rows x 6 columns]"
      ]
     },
     "execution_count": 284,
     "metadata": {},
     "output_type": "execute_result"
    }
   ],
   "source": [
    "df"
   ]
  },
  {
   "cell_type": "code",
   "execution_count": 286,
   "metadata": {},
   "outputs": [],
   "source": [
    "df.to_excel('naver_tech_it.xlsx')"
   ]
  },
  {
   "cell_type": "code",
   "execution_count": null,
   "metadata": {},
   "outputs": [],
   "source": []
  }
 ],
 "metadata": {
  "kernelspec": {
   "display_name": "Python 3",
   "language": "python",
   "name": "python3"
  },
  "language_info": {
   "codemirror_mode": {
    "name": "ipython",
    "version": 3
   },
   "file_extension": ".py",
   "mimetype": "text/x-python",
   "name": "python",
   "nbconvert_exporter": "python",
   "pygments_lexer": "ipython3",
   "version": "3.7.0"
  }
 },
 "nbformat": 4,
 "nbformat_minor": 4
}
