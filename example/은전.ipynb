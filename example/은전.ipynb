{
 "cells": [
  {
   "cell_type": "code",
   "execution_count": null,
   "id": "statistical-photography",
   "metadata": {},
   "outputs": [],
   "source": [
    "!pip uninstall eunjeon"
   ]
  },
  {
   "cell_type": "code",
   "execution_count": 5,
   "id": "married-benefit",
   "metadata": {},
   "outputs": [
    {
     "name": "stdout",
     "output_type": "stream",
     "text": [
      "Package             Version\n",
      "------------------- -------------------\n",
      "-pype1              1.2.1\n",
      "argon2-cffi         20.1.0\n",
      "async-generator     1.10\n",
      "attrs               20.3.0\n",
      "backcall            0.2.0\n",
      "beautifulsoup4      4.6.0\n",
      "bleach              3.3.0\n",
      "certifi             2020.12.5\n",
      "cffi                1.14.4\n",
      "chardet             3.0.4\n",
      "click               7.1.2\n",
      "colorama            0.4.4\n",
      "Cython              0.29.21\n",
      "dataclasses         0.8\n",
      "decorator           4.4.2\n",
      "defusedxml          0.6.0\n",
      "entrypoints         0.3\n",
      "et-xmlfile          1.0.1\n",
      "eunjeon             0.4.0\n",
      "filelock            3.0.12\n",
      "gluonnlp            0.7.0\n",
      "graphviz            0.8.4\n",
      "idna                2.6\n",
      "importlib-metadata  3.4.0\n",
      "ipykernel           5.4.3\n",
      "ipython             7.16.1\n",
      "ipython-genutils    0.2.0\n",
      "ipywidgets          7.6.3\n",
      "jdcal               1.4.1\n",
      "jedi                0.18.0\n",
      "Jinja2              2.11.3\n",
      "joblib              1.0.0\n",
      "JPype1              1.1.2\n",
      "jsonschema          3.2.0\n",
      "jupyter             1.0.0\n",
      "jupyter-client      6.1.11\n",
      "jupyter-console     6.2.0\n",
      "jupyter-core        4.7.1\n",
      "jupyterlab-pygments 0.1.2\n",
      "jupyterlab-widgets  1.0.0\n",
      "kobert              0.1.2\n",
      "konlpy              0.5.2\n",
      "lxml                4.6.2\n",
      "MarkupSafe          1.1.1\n",
      "mecab-python        0.996-ko-0.9.2-msvc\n",
      "mistune             0.8.4\n",
      "mxnet               1.4.0\n",
      "nbclient            0.5.1\n",
      "nbconvert           6.0.7\n",
      "nbformat            5.1.2\n",
      "nest-asyncio        1.5.1\n",
      "nltk                3.5\n",
      "notebook            6.2.0\n",
      "numpy               1.15.4\n",
      "oauthlib            3.1.0\n",
      "onnxruntime         1.1.2\n",
      "openpyxl            3.0.6\n",
      "packaging           20.9\n",
      "pandas              1.1.5\n",
      "pandocfilters       1.4.3\n",
      "parso               0.8.1\n",
      "pickleshare         0.7.5\n",
      "Pillow              8.1.0\n",
      "pip                 20.3.3\n",
      "prometheus-client   0.9.0\n",
      "prompt-toolkit      3.0.14\n",
      "protobuf            3.14.0\n",
      "pycparser           2.20\n",
      "Pygments            2.7.4\n",
      "pyparsing           2.4.7\n",
      "pyrsistent          0.17.3\n",
      "PySocks             1.7.1\n",
      "python-dateutil     2.8.1\n",
      "pytz                2021.1\n",
      "pywin32             300\n",
      "pywinpty            0.5.7\n",
      "pyzmq               22.0.2\n",
      "qtconsole           5.0.2\n",
      "QtPy                1.9.0\n",
      "rank-bm25           0.2.1\n",
      "regex               2020.11.13\n",
      "requests            2.18.4\n",
      "requests-oauthlib   1.3.0\n",
      "sacremoses          0.0.43\n",
      "scikit-learn        0.24.1\n",
      "scipy               1.5.4\n",
      "Send2Trash          1.5.0\n",
      "sentencepiece       0.1.91\n",
      "setuptools          52.0.0.post20210125\n",
      "six                 1.15.0\n",
      "sklearn             0.0\n",
      "terminado           0.9.2\n",
      "testpath            0.4.4\n",
      "threadpoolctl       2.1.0\n",
      "tokenizers          0.9.3\n",
      "torch               1.7.1+cu101\n",
      "torchaudio          0.7.2\n",
      "torchvision         0.8.2+cu101\n",
      "tornado             6.1\n",
      "tqdm                4.56.0\n",
      "traitlets           4.3.3\n",
      "transformers        3.5.1\n",
      "tweepy              3.10.0\n",
      "typing              3.6.6\n",
      "typing-extensions   3.7.4.3\n",
      "urllib3             1.22\n",
      "wcwidth             0.2.5\n",
      "webencodings        0.5.1\n",
      "wheel               0.36.2\n",
      "widgetsnbextension  3.5.1\n",
      "wincertstore        0.2\n",
      "zipp                3.4.0\n"
     ]
    }
   ],
   "source": [
    "!pip list"
   ]
  },
  {
   "cell_type": "code",
   "execution_count": 1,
   "id": "diverse-nashville",
   "metadata": {},
   "outputs": [
    {
     "data": {
      "text/plain": [
       "['고양이', '녜']"
      ]
     },
     "execution_count": 1,
     "metadata": {},
     "output_type": "execute_result"
    }
   ],
   "source": [
    ">>> from eunjeon import Mecab  # KoNLPy style mecab wrapper\n",
    ">>> tagger = Mecab() \n",
    ">>> tagger.nouns(\"고양이가 냐 하고 울면 나는 녜 하고 울어야지\")"
   ]
  },
  {
   "cell_type": "code",
   "execution_count": null,
   "id": "numeric-submission",
   "metadata": {},
   "outputs": [],
   "source": []
  },
  {
   "cell_type": "code",
   "execution_count": 5,
   "id": "acting-hazard",
   "metadata": {},
   "outputs": [],
   "source": [
    ">>> poem = \"\"\"\n",
    "... 흘러내린 머리카락이 흐린 호박빛 아래 빛난다.\n",
    "... 유영하며.\n",
    "... 저건가보다.\n",
    "... 세월의 힘을 이겨낸 마지막 하나 남은 가로등.\n",
    "... 미래의 색, 역겨운 청록색으로 창백하게 바뀔 마지막 가로등\n",
    "... 난 유영한다. 차분하게 과거에 살면서 현재의 공기를 마신다.\n",
    "... 가로등이 깜빡인다.\n",
    "...\n",
    "... 나도 깜빡여준다.\n",
    "... \"\"\""
   ]
  },
  {
   "cell_type": "code",
   "execution_count": 6,
   "id": "running-chocolate",
   "metadata": {},
   "outputs": [
    {
     "data": {
      "text/plain": [
       "['흘러내린',\n",
       " '머리카락',\n",
       " '이',\n",
       " '흐린',\n",
       " '호박',\n",
       " '빛',\n",
       " '아래',\n",
       " '빛난다',\n",
       " '.',\n",
       " '유영',\n",
       " '하',\n",
       " '며',\n",
       " '.',\n",
       " '저건가',\n",
       " '보',\n",
       " '다',\n",
       " '.',\n",
       " '세월',\n",
       " '의',\n",
       " '힘',\n",
       " '을',\n",
       " '이겨',\n",
       " '낸',\n",
       " '마지막',\n",
       " '하나',\n",
       " '남',\n",
       " '은',\n",
       " '가로등',\n",
       " '.',\n",
       " '미래',\n",
       " '의',\n",
       " '색',\n",
       " ',',\n",
       " '역겨운',\n",
       " '청록색',\n",
       " '으로',\n",
       " '창백',\n",
       " '하',\n",
       " '게',\n",
       " '바뀔',\n",
       " '마지막',\n",
       " '가로등',\n",
       " '난',\n",
       " '유영',\n",
       " '한다',\n",
       " '.',\n",
       " '차분',\n",
       " '하',\n",
       " '게',\n",
       " '과거',\n",
       " '에',\n",
       " '살',\n",
       " '면서',\n",
       " '현재',\n",
       " '의',\n",
       " '공기',\n",
       " '를',\n",
       " '마신다',\n",
       " '.',\n",
       " '가로등',\n",
       " '이',\n",
       " '깜빡인다',\n",
       " '.',\n",
       " '나',\n",
       " '도',\n",
       " '깜빡',\n",
       " '여',\n",
       " '준다',\n",
       " '.']"
      ]
     },
     "execution_count": 6,
     "metadata": {},
     "output_type": "execute_result"
    }
   ],
   "source": [
    "tagger.morphs(poem)"
   ]
  },
  {
   "cell_type": "code",
   "execution_count": 7,
   "id": "decent-sheet",
   "metadata": {},
   "outputs": [
    {
     "data": {
      "text/plain": [
       "[('다람쥐', 'NNG'),\n",
       " ('헌', 'XSV+ETM'),\n",
       " ('쳇바퀴', 'NNG'),\n",
       " ('에', 'JKB'),\n",
       " ('타', 'VV'),\n",
       " ('고', 'EC'),\n",
       " ('파', 'VX+EC')]"
      ]
     },
     "execution_count": 7,
     "metadata": {},
     "output_type": "execute_result"
    }
   ],
   "source": [
    ">>> tagger.pos(\"다람쥐 헌 쳇바퀴에 타고 파\")"
   ]
  },
  {
   "cell_type": "code",
   "execution_count": 8,
   "id": "governing-guinea",
   "metadata": {},
   "outputs": [
    {
     "name": "stdout",
     "output_type": "stream",
     "text": [
      "Collecting nltk\n",
      "  Downloading nltk-3.5.zip (1.4 MB)\n",
      "Requirement already satisfied: click in c:\\users\\deeplearning_4\\anaconda3\\envs\\torch\\lib\\site-packages (from nltk) (7.1.2)\n",
      "Requirement already satisfied: joblib in c:\\users\\deeplearning_4\\anaconda3\\envs\\torch\\lib\\site-packages (from nltk) (1.0.0)\n",
      "Requirement already satisfied: regex in c:\\users\\deeplearning_4\\anaconda3\\envs\\torch\\lib\\site-packages (from nltk) (2020.11.13)\n",
      "Requirement already satisfied: tqdm in c:\\users\\deeplearning_4\\anaconda3\\envs\\torch\\lib\\site-packages (from nltk) (4.56.0)\n",
      "Building wheels for collected packages: nltk\n",
      "  Building wheel for nltk (setup.py): started\n",
      "  Building wheel for nltk (setup.py): finished with status 'done'\n",
      "  Created wheel for nltk: filename=nltk-3.5-py3-none-any.whl size=1434673 sha256=c002d547823ded8719cc75936bef92d3f364acfb26317cf1081833a2dfc482b9\n",
      "  Stored in directory: c:\\users\\deeplearning_4\\appdata\\local\\pip\\cache\\wheels\\de\\5e\\42\\64abaeca668161c3e2cecc24f864a8fc421e3d07a104fc8a51\n",
      "Successfully built nltk\n",
      "Installing collected packages: nltk\n",
      "Successfully installed nltk-3.5\n"
     ]
    }
   ],
   "source": [
    "!pip install nltk"
   ]
  },
  {
   "cell_type": "code",
   "execution_count": 11,
   "id": "developmental-quest",
   "metadata": {},
   "outputs": [
    {
     "name": "stdout",
     "output_type": "stream",
     "text": [
      "['mp3가', '뭔가요', '?']\n",
      "[('mp3가', 'NN'), ('뭔가요', 'NN'), ('?', '.')]\n"
     ]
    },
    {
     "name": "stderr",
     "output_type": "stream",
     "text": [
      "[nltk_data] Downloading package punkt to\n",
      "[nltk_data]     C:\\Users\\DeepLearning_4\\AppData\\Roaming\\nltk_data...\n",
      "[nltk_data]   Package punkt is already up-to-date!\n",
      "[nltk_data] Downloading package averaged_perceptron_tagger to\n",
      "[nltk_data]     C:\\Users\\DeepLearning_4\\AppData\\Roaming\\nltk_data...\n",
      "[nltk_data]   Package averaged_perceptron_tagger is already up-to-\n",
      "[nltk_data]       date!\n"
     ]
    }
   ],
   "source": [
    "import nltk\n",
    "\n",
    "text = \"mp3가 뭔가요?\"\n",
    "\n",
    "nltk.download('punkt')\n",
    "nltk.download('averaged_perceptron_tagger')\n",
    "words = nltk.tokenize.word_tokenize(text)\n",
    "print(words) #['beautiful', 'Emma', 'refused', 'to', 'permit', 'us', 'to', 'obtain', 'the', 'refuse', 'permit']\n",
    "\n",
    "print(nltk.tag.pos_tag(words))"
   ]
  },
  {
   "cell_type": "code",
   "execution_count": 21,
   "id": "brown-adventure",
   "metadata": {
    "collapsed": true
   },
   "outputs": [
    {
     "name": "stdout",
     "output_type": "stream",
     "text": [
      " D 드라이브의 볼륨: 새 볼륨\n",
      " 볼륨 일련 번호: 2070-7450\n",
      "\n",
      " D:\\sig2021S 디렉터리\n",
      "\n",
      "2021-02-08  오후 11:39    <DIR>          .\n",
      "2021-02-08  오후 11:39    <DIR>          ..\n",
      "2021-02-08  오후 10:13    <DIR>          .ipynb_checkpoints\n",
      "2021-01-19  오후 12:58         1,506,259 04_(개정)케라스로_Q&A_구현하기_With_SQUAD.ipynb\n",
      "2021-01-27  오후 03:49         1,536,900 05_케라스로_KorQuAD(한국어_Q&A)_구현하기.ipynb\n",
      "2021-02-04  오후 04:40               113 1.15.4\n",
      "2021-02-02  오후 04:47            13,812 1.4.0\n",
      "2021-01-18  오후 07:34    <DIR>          bert\n",
      "2021-01-18  오후 07:34         4,854,279 dev-v1.1.json\n",
      "2021-02-08  오후 06:54         1,458,514 JPype1-1.1.2-cp36-cp36m-win32.whl\n",
      "2021-02-08  오후 06:52         1,601,932 JPype1-1.1.2-cp36-cp36m-win_amd64.whl\n",
      "2021-02-05  오후 05:05           383,478 kobert korQUAD.ipynb\n",
      "2021-02-08  오후 02:49           333,932 korQuad by kobert Tensor.ipynb\n",
      "2021-01-19  오후 01:21         3,881,058 KorQuAD_v1.0_dev.json\n",
      "2021-01-19  오후 01:21        38,527,475 KorQuAD_v1.0_train.json\n",
      "2021-01-19  오후 03:01       708,923,464 korquad_wordpiece.h5\n",
      "2021-01-19  오후 06:16       708,923,464 korquad_wordpiece_2.h5\n",
      "2021-01-19  오후 08:44       708,923,464 korquad_wordpiece_3.h5\n",
      "2021-02-08  오후 11:38    <DIR>          mecab\n",
      "2018-11-24  오전 09:57       662,903,077 multi_cased_L-12_H-768_A-12.zip\n",
      "2018-11-24  오전 09:57       662,903,077 multi_cased_L-12_H-768_A-12.zip.1\n",
      "2021-02-07  오후 11:53       368,860,863 naverClass\n",
      "2021-01-23  오후 07:17        14,704,145 naver_it.xlsx\n",
      "2021-01-24  오후 03:03        14,437,752 naver_it2.xlsx\n",
      "2021-02-07  오후 11:56           107,072 naver_review_classifications_pytorch_kobert (1).ipynb\n",
      "2021-01-23  오후 07:07         1,835,524 naver_tech_it.xlsx\n",
      "2021-01-23  오후 01:24         8,235,455 naver_tech_it2.xlsx\n",
      "2021-01-23  오후 06:05         2,574,102 naver_tech_it3.xlsx\n",
      "2021-01-23  오후 06:53         1,404,998 naver_tech_it4.xlsx\n",
      "2021-02-04  오후 04:13         4,893,335 ratings_test.txt@dl=1\n",
      "2021-02-04  오후 04:13        14,628,807 ratings_train.txt@dl=1\n",
      "2021-01-18  오후 10:21       708,923,464 squad_wordpiece.h5\n",
      "2021-01-19  오전 03:02       708,923,464 squad_wordpiece_2.h5\n",
      "2021-01-19  오전 03:02       708,923,464 squad_wordpiece_3.h5\n",
      "2021-01-18  오후 07:34        30,288,272 train-v1.1.json\n",
      "2021-02-03  오후 08:15    <DIR>          Untitled Folder\n",
      "2021-02-03  오전 12:48                72 Untitled1.ipynb\n",
      "2021-01-23  오후 06:55            37,485 네이버 지식 백과 크롤러.ipynb\n",
      "2021-02-08  오후 10:29            36,261 문서 검색.ipynb\n",
      "2021-01-24  오후 07:51             8,804 엑셀 파일.ipynb\n",
      "2021-01-22  오후 10:04            40,567 웹 크롤러.ipynb\n",
      "2021-02-08  오후 11:39            11,748 은전.ipynb\n",
      "2021-02-08  오후 09:59             9,059 주체 찾기.ipynb\n",
      "2021-02-01  오후 07:45            45,853 키워드 추출.ipynb\n",
      "2021-01-24  오후 07:57             1,019 테스ㅡ.ipynb\n",
      "2021-02-07  오후 03:58            20,894 파이토치 공부.ipynb\n",
      "2021-02-04  오전 12:02             1,928 형태소 분석.ipynb\n",
      "              41개 파일       6,095,628,705 바이트\n",
      "               6개 디렉터리  1,827,164,307,456 바이트 남음\n"
     ]
    }
   ],
   "source": [
    "!dir"
   ]
  },
  {
   "cell_type": "code",
   "execution_count": 1,
   "id": "fourth-uncertainty",
   "metadata": {},
   "outputs": [
    {
     "name": "stdout",
     "output_type": "stream",
     "text": [
      "오늘\tNNG,*,T,오늘,*,*,*,*\n",
      "은\tJX,*,T,은,*,*,*,*\n",
      "좋\tVA,*,T,좋,*,*,*,*\n",
      "은\tETM,*,T,은,*,*,*,*\n",
      "날\tNNG,*,T,날,*,*,*,*\n",
      ",\tSC,*,*,*,*,*,*,*\n",
      "행복\tNNG,정적사태,T,행복,*,*,*,*\n",
      "한\tXSA+ETM,*,T,한,Inflect,XSA,ETM,하/XSA/*+ᆫ/ETM/*\n",
      "삶\tNNG,행위,T,삶,*,*,*,*\n",
      "을\tJKO,*,T,을,*,*,*,*\n",
      "누리\tVV,*,F,누리,*,*,*,*\n",
      "자\tEF,*,F,자,*,*,*,*\n",
      ".\tSF,*,*,*,*,*,*,*\n",
      "EOS\n",
      "\n"
     ]
    }
   ],
   "source": [
    "import MeCab\n",
    "m = MeCab.Tagger()\n",
    "a = m.parse(\"오늘은 좋은날, 행복한 삶을 누리자.\")\n",
    "print(a)"
   ]
  },
  {
   "cell_type": "code",
   "execution_count": 9,
   "id": "outstanding-spain",
   "metadata": {},
   "outputs": [
    {
     "name": "stdout",
     "output_type": "stream",
     "text": [
      "mp3\tNNP,*,T,mp3,*,*,*,*,*\n",
      "어떻게\tMAG,*,F,어떻게,*,*,*,*\n",
      "하나\tNR,*,F,하나,*,*,*,*\n",
      "EOS\n",
      "\n"
     ]
    }
   ],
   "source": [
    "import MeCab\n",
    "m = MeCab.Tagger()\n",
    "a = m.parse(\"mp3 어떻게 하나\")\n",
    "print(a)"
   ]
  },
  {
   "cell_type": "code",
   "execution_count": 5,
   "id": "distant-decline",
   "metadata": {},
   "outputs": [
    {
     "data": {
      "text/plain": [
       "['mp3', '어떻게', '하나']"
      ]
     },
     "execution_count": 5,
     "metadata": {},
     "output_type": "execute_result"
    }
   ],
   "source": [
    "tagger.morphs(\"mp3 어떻게 하나\")"
   ]
  },
  {
   "cell_type": "code",
   "execution_count": null,
   "id": "lonely-dominant",
   "metadata": {},
   "outputs": [],
   "source": []
  }
 ],
 "metadata": {
  "kernelspec": {
   "display_name": "torch1.7.1",
   "language": "python",
   "name": "torch1.7.1"
  },
  "language_info": {
   "codemirror_mode": {
    "name": "ipython",
    "version": 3
   },
   "file_extension": ".py",
   "mimetype": "text/x-python",
   "name": "python",
   "nbconvert_exporter": "python",
   "pygments_lexer": "ipython3",
   "version": "3.6.12"
  }
 },
 "nbformat": 4,
 "nbformat_minor": 5
}