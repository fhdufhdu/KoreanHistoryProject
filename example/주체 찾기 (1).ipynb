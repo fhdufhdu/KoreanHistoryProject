{
 "cells": [
  {
   "cell_type": "code",
   "execution_count": 205,
   "id": "virgin-respect",
   "metadata": {},
   "outputs": [],
   "source": [
    "import re"
   ]
  },
  {
   "cell_type": "code",
   "execution_count": 206,
   "id": "blessed-intention",
   "metadata": {},
   "outputs": [
    {
     "name": "stdout",
     "output_type": "stream",
     "text": [
      "[re.compile('^.+?은'), re.compile('^.+?는'), re.compile('^.+?가'), re.compile('^.+?의'), re.compile('^.+?을'), re.compile('^.+?를')]\n"
     ]
    }
   ],
   "source": [
    "rList = [\"^.+?은\", \"^.+?는\", \"^.+?가\", \"^.+?의\", \"^.+?을\", \"^.+?를\"]\n",
    "reList = []\n",
    "\n",
    "for r in rList:\n",
    "    rea = re.compile(r)\n",
    "    reList.append(rea)\n",
    "\n",
    "print(reList)"
   ]
  },
  {
   "cell_type": "code",
   "execution_count": 211,
   "id": "fabulous-press",
   "metadata": {},
   "outputs": [],
   "source": [
    "def getMain(str):\n",
    "    res = []\n",
    "    for re in reList:\n",
    "        if (re.search(str)):\n",
    "            for data in re.findall(str):\n",
    "                res.append(data)\n",
    "    \n",
    "    res.sort()\n",
    "    a = res[0]\n",
    "    return (a[:-1]).lower()"
   ]
  },
  {
   "cell_type": "code",
   "execution_count": 215,
   "id": "moved-actress",
   "metadata": {},
   "outputs": [
    {
     "data": {
      "text/plain": [
       "'mp3'"
      ]
     },
     "execution_count": 215,
     "metadata": {},
     "output_type": "execute_result"
    }
   ],
   "source": [
    "getMain(\"mP3가 뭐야?\")"
   ]
  },
  {
   "cell_type": "code",
   "execution_count": 216,
   "id": "boring-syracuse",
   "metadata": {},
   "outputs": [
    {
     "data": {
      "text/plain": [
       "'바그너'"
      ]
     },
     "execution_count": 216,
     "metadata": {},
     "output_type": "execute_result"
    }
   ],
   "source": [
    "getMain(\"바그너가 파우스트 서곡을 쓸 때 어떤 곡의 영향을 받았는가?\")"
   ]
  },
  {
   "cell_type": "code",
   "execution_count": 217,
   "id": "genuine-service",
   "metadata": {},
   "outputs": [
    {
     "data": {
      "text/plain": [
       "'바그너'"
      ]
     },
     "execution_count": 217,
     "metadata": {},
     "output_type": "execute_result"
    }
   ],
   "source": [
    "getMain(\"바그너는 괴테의 파우스트를 읽고 무엇을 쓰고자 했는가?\")"
   ]
  },
  {
   "cell_type": "code",
   "execution_count": 11,
   "id": "relative-water",
   "metadata": {},
   "outputs": [
    {
     "name": "stdout",
     "output_type": "stream",
     "text": [
      "ipython                   7.16.1                   pypi_0    pypi\n",
      "ipython-genutils          0.2.0                    pypi_0    pypi\n",
      "python                    3.6.12               h5500b2f_2  \n",
      "python-dateutil           2.8.1                    pypi_0    pypi\n"
     ]
    }
   ],
   "source": [
    "!conda list | findstr python"
   ]
  },
  {
   "cell_type": "code",
   "execution_count": 6,
   "id": "essential-lodge",
   "metadata": {},
   "outputs": [
    {
     "name": "stdout",
     "output_type": "stream",
     "text": [
      " D 드라이브의 볼륨: 새 볼륨\n",
      " 볼륨 일련 번호: 2070-7450\n",
      "\n",
      " D:\\sig2021S 디렉터리\n",
      "\n",
      "2021-02-08  오후 06:52    <DIR>          .\n",
      "2021-02-08  오후 06:52    <DIR>          ..\n",
      "2021-02-08  오후 02:45    <DIR>          .ipynb_checkpoints\n",
      "2021-01-19  오후 12:58         1,506,259 04_(개정)케라스로_Q&A_구현하기_With_SQUAD.ipynb\n",
      "2021-01-27  오후 03:49         1,536,900 05_케라스로_KorQuAD(한국어_Q&A)_구현하기.ipynb\n",
      "2021-02-04  오후 04:40               113 1.15.4\n",
      "2021-02-02  오후 04:47            13,812 1.4.0\n",
      "2021-01-18  오후 07:34    <DIR>          bert\n",
      "2021-01-18  오후 07:34         4,854,279 dev-v1.1.json\n",
      "2021-02-08  오후 06:52         1,601,932 JPype1-1.1.2-cp36-cp36m-win_amd64.whl\n",
      "2021-02-05  오후 05:05           383,478 kobert korQUAD.ipynb\n",
      "2021-02-08  오후 02:49           333,932 korQuad by kobert Tensor.ipynb\n",
      "2021-01-19  오후 01:21         3,881,058 KorQuAD_v1.0_dev.json\n",
      "2021-01-19  오후 01:21        38,527,475 KorQuAD_v1.0_train.json\n",
      "2021-01-19  오후 03:01       708,923,464 korquad_wordpiece.h5\n",
      "2021-01-19  오후 06:16       708,923,464 korquad_wordpiece_2.h5\n",
      "2021-01-19  오후 08:44       708,923,464 korquad_wordpiece_3.h5\n",
      "2021-02-08  오후 04:19    <DIR>          Mecab-ko-for-Google-Colab\n",
      "2018-11-24  오전 09:57       662,903,077 multi_cased_L-12_H-768_A-12.zip\n",
      "2018-11-24  오전 09:57       662,903,077 multi_cased_L-12_H-768_A-12.zip.1\n",
      "2021-02-07  오후 11:53       368,860,863 naverClass\n",
      "2021-01-23  오후 07:17        14,704,145 naver_it.xlsx\n",
      "2021-01-24  오후 03:03        14,437,752 naver_it2.xlsx\n",
      "2021-02-07  오후 11:56           107,072 naver_review_classifications_pytorch_kobert (1).ipynb\n",
      "2021-01-23  오후 07:07         1,835,524 naver_tech_it.xlsx\n",
      "2021-01-23  오후 01:24         8,235,455 naver_tech_it2.xlsx\n",
      "2021-01-23  오후 06:05         2,574,102 naver_tech_it3.xlsx\n",
      "2021-01-23  오후 06:53         1,404,998 naver_tech_it4.xlsx\n",
      "2021-02-04  오후 04:13         4,893,335 ratings_test.txt@dl=1\n",
      "2021-02-04  오후 04:13        14,628,807 ratings_train.txt@dl=1\n",
      "2021-01-18  오후 10:21       708,923,464 squad_wordpiece.h5\n",
      "2021-01-19  오전 03:02       708,923,464 squad_wordpiece_2.h5\n",
      "2021-01-19  오전 03:02       708,923,464 squad_wordpiece_3.h5\n",
      "2021-01-18  오후 07:34        30,288,272 train-v1.1.json\n",
      "2021-02-03  오후 08:15    <DIR>          Untitled Folder\n",
      "2021-02-03  오전 12:48                72 Untitled1.ipynb\n",
      "2021-01-23  오후 06:55            37,485 네이버 지식 백과 크롤러.ipynb\n",
      "2021-02-08  오후 06:25            21,478 문서 검색.ipynb\n",
      "2021-01-24  오후 07:51             8,804 엑셀 파일.ipynb\n",
      "2021-01-22  오후 10:04            40,567 웹 크롤러.ipynb\n",
      "2021-02-08  오후 06:49             7,997 주체 찾기.ipynb\n",
      "2021-02-01  오후 07:45            45,853 키워드 추출.ipynb\n",
      "2021-01-24  오후 07:57             1,019 테스ㅡ.ipynb\n",
      "2021-02-07  오후 03:58            20,894 파이토치 공부.ipynb\n",
      "2021-02-04  오전 12:02             1,928 형태소 분석.ipynb\n",
      "              39개 파일       6,094,142,598 바이트\n",
      "               6개 디렉터리  1,827,661,828,096 바이트 남음\n"
     ]
    }
   ],
   "source": [
    "!dir"
   ]
  },
  {
   "cell_type": "code",
   "execution_count": 12,
   "id": "unlimited-knowing",
   "metadata": {},
   "outputs": [
    {
     "name": "stderr",
     "output_type": "stream",
     "text": [
      "ERROR: JPype1-1.1.2-cp36-cp36m-win32.whl is not a supported wheel on this platform.\n"
     ]
    }
   ],
   "source": [
    "!pip install JPype1-1.1.2-cp36-cp36m-win32.whl --user"
   ]
  },
  {
   "cell_type": "code",
   "execution_count": 1,
   "id": "scheduled-optics",
   "metadata": {},
   "outputs": [],
   "source": [
    "from konlpy.tag import Okt"
   ]
  },
  {
   "cell_type": "code",
   "execution_count": 2,
   "id": "occupied-travel",
   "metadata": {},
   "outputs": [],
   "source": [
    "okt = Okt()"
   ]
  },
  {
   "cell_type": "code",
   "execution_count": 11,
   "id": "adolescent-manchester",
   "metadata": {},
   "outputs": [
    {
     "name": "stdout",
     "output_type": "stream",
     "text": [
      "[('자연어', 'Noun'), ('처리', 'Noun'), ('가', 'Josa'), ('뭐', 'Noun'), ('야', 'Josa'), ('?', 'Punctuation')]\n"
     ]
    }
   ],
   "source": [
    "print(okt.pos(u'자연어 처리가 뭐야?'))"
   ]
  },
  {
   "cell_type": "code",
   "execution_count": 12,
   "id": "recreational-detail",
   "metadata": {},
   "outputs": [
    {
     "name": "stdout",
     "output_type": "stream",
     "text": [
      "['자연어', '처리', '뭐']\n"
     ]
    }
   ],
   "source": [
    "print(okt.nouns(u'자연어 처리가 뭐야?'))"
   ]
  },
  {
   "cell_type": "code",
   "execution_count": null,
   "id": "authorized-forward",
   "metadata": {},
   "outputs": [],
   "source": []
  }
 ],
 "metadata": {
  "kernelspec": {
   "display_name": "torch1.7.1",
   "language": "python",
   "name": "torch1.7.1"
  },
  "language_info": {
   "codemirror_mode": {
    "name": "ipython",
    "version": 3
   },
   "file_extension": ".py",
   "mimetype": "text/x-python",
   "name": "python",
   "nbconvert_exporter": "python",
   "pygments_lexer": "ipython3",
   "version": "3.6.12"
  }
 },
 "nbformat": 4,
 "nbformat_minor": 5
}
