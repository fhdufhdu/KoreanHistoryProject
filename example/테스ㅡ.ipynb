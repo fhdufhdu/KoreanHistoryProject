{
 "cells": [
  {
   "cell_type": "code",
   "execution_count": 4,
   "id": "affecting-neighborhood",
   "metadata": {},
   "outputs": [
    {
     "name": "stdout",
     "output_type": "stream",
     "text": [
      "blfds fsdf 한글 하하ㅏ 자연어 처리 연어 ! 처리!\n"
     ]
    }
   ],
   "source": [
    "s1 = 'Blfds fsdf 한글 하하ㅏ 자연어 처리 연어 ! 처리!' \n",
    "s2 = s1.lower()\n",
    "print(s2)"
   ]
  },
  {
   "cell_type": "code",
   "execution_count": null,
   "id": "progressive-detail",
   "metadata": {},
   "outputs": [],
   "source": []
  }
 ],
 "metadata": {
  "kernelspec": {
   "display_name": "Python 3",
   "language": "python",
   "name": "python3"
  },
  "language_info": {
   "codemirror_mode": {
    "name": "ipython",
    "version": 3
   },
   "file_extension": ".py",
   "mimetype": "text/x-python",
   "name": "python",
   "nbconvert_exporter": "python",
   "pygments_lexer": "ipython3",
   "version": "3.7.0"
  }
 },
 "nbformat": 4,
 "nbformat_minor": 5
}
