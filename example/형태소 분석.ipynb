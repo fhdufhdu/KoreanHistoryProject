{
 "cells": [
  {
   "cell_type": "code",
   "execution_count": 1,
   "id": "differential-essay",
   "metadata": {},
   "outputs": [
    {
     "name": "stdout",
     "output_type": "stream",
     "text": [
      "Collecting eunjeon\n",
      "  Downloading eunjeon-0.4.0-cp36-cp36m-win_amd64.whl (35.0 MB)\n",
      "Installing collected packages: eunjeon\n",
      "Successfully installed eunjeon-0.4.0\n"
     ]
    }
   ],
   "source": [
    "!pip install eunjeon"
   ]
  },
  {
   "cell_type": "code",
   "execution_count": 5,
   "id": "awful-grill",
   "metadata": {},
   "outputs": [
    {
     "data": {
      "text/plain": [
       "[('파우스트', 'NNP'),\n",
       " ('서곡', 'NNG'),\n",
       " ('의', 'JKG'),\n",
       " ('라단조', 'NNG'),\n",
       " ('조성', 'NNG'),\n",
       " ('이', 'JKS'),\n",
       " ('영향', 'NNG'),\n",
       " ('을', 'JKO'),\n",
       " ('받', 'VV'),\n",
       " ('은', 'ETM'),\n",
       " ('베토벤', 'NNP'),\n",
       " ('의', 'JKG'),\n",
       " ('곡', 'NNG'),\n",
       " ('은', 'JX')]"
      ]
     },
     "execution_count": 5,
     "metadata": {},
     "output_type": "execute_result"
    }
   ],
   "source": [
    "from eunjeon import Mecab\n",
    "m = Mecab()\n",
    "m.pos(\"파우스트 서곡의 라단조 조성이 영향을 받은 베토벤의 곡은\")"
   ]
  },
  {
   "cell_type": "code",
   "execution_count": null,
   "id": "surgical-delaware",
   "metadata": {},
   "outputs": [],
   "source": []
  }
 ],
 "metadata": {
  "kernelspec": {
   "display_name": "Python 3",
   "language": "python",
   "name": "python3"
  },
  "language_info": {
   "codemirror_mode": {
    "name": "ipython",
    "version": 3
   },
   "file_extension": ".py",
   "mimetype": "text/x-python",
   "name": "python",
   "nbconvert_exporter": "python",
   "pygments_lexer": "ipython3",
   "version": "3.6.12"
  }
 },
 "nbformat": 4,
 "nbformat_minor": 5
}
