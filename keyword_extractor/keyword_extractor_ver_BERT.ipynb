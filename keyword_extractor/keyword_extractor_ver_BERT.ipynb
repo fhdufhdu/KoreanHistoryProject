{
 "metadata": {
  "language_info": {
   "name": "python",
   "version": "3.6.13",
   "mimetype": "text/x-python",
   "codemirror_mode": {
    "name": "ipython",
    "version": 3
   },
   "pygments_lexer": "ipython3",
   "nbconvert_exporter": "python",
   "file_extension": ".py"
  },
  "orig_nbformat": 4,
  "kernelspec": {
   "name": "python3",
   "display_name": "Python 3.6.13 64-bit ('sig': conda)"
  },
  "interpreter": {
   "hash": "fa77a008a21e832a8c4c5192ebdf5151ad890f56fb8c2da17132c8e04b4b7627"
  }
 },
 "nbformat": 4,
 "nbformat_minor": 2,
 "cells": [
  {
   "cell_type": "code",
   "execution_count": 1,
   "source": [
    "'''\n",
    "코버트 실행 환경\n",
    "python==3.6\n",
    "torch==1.7.1\n",
    "transforers==3.5.1\n",
    "'''\n",
    "import sys\n",
    "from os import path\n",
    "from tqdm import tqdm\n",
    "from sklearn.model_selection import train_test_split\n",
    "from model.Embeder import SentenceEmbeder"
   ],
   "outputs": [],
   "metadata": {}
  },
  {
   "cell_type": "code",
   "execution_count": 2,
   "source": [
    "project_dir = '/home/fhdufhdu/vscode/KoreanHistoryProject'\n",
    "sys.path.append(project_dir)\n",
    "from util.func import load_pickle, remove_duplicated_keyword, DependencyParser\n",
    "# if __package__ is None:\n",
    "#     current_path = path.dirname(path.dirname(path.abspath(\n",
    "#         '/home/fhdufhdu/vscode/KoreanHistoryProject/keyword_extractor/keyword_extractor_ver_BERT.ipynb')))\n",
    "#     sys.path.append(current_path)\n",
    "#     from util.func import load_pickle, remove_duplicated_keyword, DependencyParser\n",
    "# else:\n",
    "#     from ..util.func import load_pickle, remove_duplicated_keyword, DependencyParser\n",
    "\n",
    "# 데이터셋 생성(버트 데이터셋 x)\n",
    "document_list = load_pickle('data/document_list.pickle')\n",
    "title_list = load_pickle('data/title_list.pickle')\n",
    "\n",
    "embeder = SentenceEmbeder(10)\n"
   ],
   "outputs": [
    {
     "output_type": "stream",
     "name": "stderr",
     "text": [
      "[koalanlp.jip] [INFO] Latest version of kr.bydelta:koalanlp-hnn (2.1.4) will be used.\n",
      "[root] Java gateway started with port number 35969\n",
      "[root] Callback server will use port number 25334\n",
      "[py4j.java_gateway] An error occurred while trying to start the callback server (127.0.0.1:25334)\n",
      "Traceback (most recent call last):\n",
      "  File \"/home/fhdufhdu/anaconda3/envs/sig/lib/python3.6/site-packages/py4j/java_gateway.py\", line 2216, in start\n",
      "    self.server_socket.bind((self.address, self.port))\n",
      "OSError: [Errno 98] Address already in use\n"
     ]
    },
    {
     "output_type": "error",
     "ename": "Py4JNetworkError",
     "evalue": "An error occurred while trying to start the callback server (127.0.0.1:25334)",
     "traceback": [
      "\u001b[0;31m---------------------------------------------------------------------------\u001b[0m",
      "\u001b[0;31mOSError\u001b[0m                                   Traceback (most recent call last)",
      "\u001b[0;32m~/anaconda3/envs/sig/lib/python3.6/site-packages/py4j/java_gateway.py\u001b[0m in \u001b[0;36mstart\u001b[0;34m(self)\u001b[0m\n\u001b[1;32m   2215\u001b[0m         \u001b[0;32mtry\u001b[0m\u001b[0;34m:\u001b[0m\u001b[0;34m\u001b[0m\u001b[0;34m\u001b[0m\u001b[0m\n\u001b[0;32m-> 2216\u001b[0;31m             \u001b[0mself\u001b[0m\u001b[0;34m.\u001b[0m\u001b[0mserver_socket\u001b[0m\u001b[0;34m.\u001b[0m\u001b[0mbind\u001b[0m\u001b[0;34m(\u001b[0m\u001b[0;34m(\u001b[0m\u001b[0mself\u001b[0m\u001b[0;34m.\u001b[0m\u001b[0maddress\u001b[0m\u001b[0;34m,\u001b[0m \u001b[0mself\u001b[0m\u001b[0;34m.\u001b[0m\u001b[0mport\u001b[0m\u001b[0;34m)\u001b[0m\u001b[0;34m)\u001b[0m\u001b[0;34m\u001b[0m\u001b[0;34m\u001b[0m\u001b[0m\n\u001b[0m\u001b[1;32m   2217\u001b[0m             \u001b[0;31m# 4-tuple for ipv6, 2-tuple for ipv4\u001b[0m\u001b[0;34m\u001b[0m\u001b[0;34m\u001b[0m\u001b[0;34m\u001b[0m\u001b[0m\n",
      "\u001b[0;31mOSError\u001b[0m: [Errno 98] Address already in use",
      "\nDuring handling of the above exception, another exception occurred:\n",
      "\u001b[0;31mPy4JNetworkError\u001b[0m                          Traceback (most recent call last)",
      "\u001b[0;32m<ipython-input-2-3d14da2cdf94>\u001b[0m in \u001b[0;36m<module>\u001b[0;34m\u001b[0m\n\u001b[1;32m      3\u001b[0m         '/home/fhdufhdu/vscode/KoreanHistoryProject/keyword_extractor/keyword_extractor_ver_BERT.ipynb')))\n\u001b[1;32m      4\u001b[0m     \u001b[0msys\u001b[0m\u001b[0;34m.\u001b[0m\u001b[0mpath\u001b[0m\u001b[0;34m.\u001b[0m\u001b[0mappend\u001b[0m\u001b[0;34m(\u001b[0m\u001b[0mcurrent_path\u001b[0m\u001b[0;34m)\u001b[0m\u001b[0;34m\u001b[0m\u001b[0;34m\u001b[0m\u001b[0m\n\u001b[0;32m----> 5\u001b[0;31m     \u001b[0;32mfrom\u001b[0m \u001b[0mutil\u001b[0m\u001b[0;34m.\u001b[0m\u001b[0mfunc\u001b[0m \u001b[0;32mimport\u001b[0m \u001b[0mload_pickle\u001b[0m\u001b[0;34m,\u001b[0m \u001b[0mremove_duplicated_keyword\u001b[0m\u001b[0;34m,\u001b[0m \u001b[0mDependencyParser\u001b[0m\u001b[0;34m\u001b[0m\u001b[0;34m\u001b[0m\u001b[0m\n\u001b[0m\u001b[1;32m      6\u001b[0m \u001b[0;32melse\u001b[0m\u001b[0;34m:\u001b[0m\u001b[0;34m\u001b[0m\u001b[0;34m\u001b[0m\u001b[0m\n\u001b[1;32m      7\u001b[0m     \u001b[0;32mfrom\u001b[0m \u001b[0;34m.\u001b[0m\u001b[0;34m.\u001b[0m\u001b[0mutil\u001b[0m\u001b[0;34m.\u001b[0m\u001b[0mfunc\u001b[0m \u001b[0;32mimport\u001b[0m \u001b[0mload_pickle\u001b[0m\u001b[0;34m,\u001b[0m \u001b[0mremove_duplicated_keyword\u001b[0m\u001b[0;34m,\u001b[0m \u001b[0mDependencyParser\u001b[0m\u001b[0;34m\u001b[0m\u001b[0;34m\u001b[0m\u001b[0m\n",
      "\u001b[0;32m~/vscode/KoreanHistoryProject/util/func.py\u001b[0m in \u001b[0;36m<module>\u001b[0;34m\u001b[0m\n\u001b[1;32m    110\u001b[0m \u001b[0;34m\u001b[0m\u001b[0m\n\u001b[1;32m    111\u001b[0m \u001b[0;34m\u001b[0m\u001b[0m\n\u001b[0;32m--> 112\u001b[0;31m \u001b[0;32mclass\u001b[0m \u001b[0mDependencyParser\u001b[0m\u001b[0;34m:\u001b[0m\u001b[0;34m\u001b[0m\u001b[0;34m\u001b[0m\u001b[0m\n\u001b[0m\u001b[1;32m    113\u001b[0m     \u001b[0mfinalize\u001b[0m\u001b[0;34m(\u001b[0m\u001b[0;34m)\u001b[0m\u001b[0;34m\u001b[0m\u001b[0;34m\u001b[0m\u001b[0m\n\u001b[1;32m    114\u001b[0m     \u001b[0minitialize\u001b[0m\u001b[0;34m(\u001b[0m\u001b[0mhnn\u001b[0m\u001b[0;34m=\u001b[0m\u001b[0;34m'LATEST'\u001b[0m\u001b[0;34m)\u001b[0m\u001b[0;34m\u001b[0m\u001b[0;34m\u001b[0m\u001b[0m\n",
      "\u001b[0;32m~/vscode/KoreanHistoryProject/util/func.py\u001b[0m in \u001b[0;36mDependencyParser\u001b[0;34m()\u001b[0m\n\u001b[1;32m    112\u001b[0m \u001b[0;32mclass\u001b[0m \u001b[0mDependencyParser\u001b[0m\u001b[0;34m:\u001b[0m\u001b[0;34m\u001b[0m\u001b[0;34m\u001b[0m\u001b[0m\n\u001b[1;32m    113\u001b[0m     \u001b[0mfinalize\u001b[0m\u001b[0;34m(\u001b[0m\u001b[0;34m)\u001b[0m\u001b[0;34m\u001b[0m\u001b[0;34m\u001b[0m\u001b[0m\n\u001b[0;32m--> 114\u001b[0;31m     \u001b[0minitialize\u001b[0m\u001b[0;34m(\u001b[0m\u001b[0mhnn\u001b[0m\u001b[0;34m=\u001b[0m\u001b[0;34m'LATEST'\u001b[0m\u001b[0;34m)\u001b[0m\u001b[0;34m\u001b[0m\u001b[0;34m\u001b[0m\u001b[0m\n\u001b[0m\u001b[1;32m    115\u001b[0m     \u001b[0mparser\u001b[0m \u001b[0;34m=\u001b[0m \u001b[0mParser\u001b[0m\u001b[0;34m(\u001b[0m\u001b[0mAPI\u001b[0m\u001b[0;34m.\u001b[0m\u001b[0mHNN\u001b[0m\u001b[0;34m)\u001b[0m  \u001b[0;31m# 또는 API.KKMA, API.ETRI\u001b[0m\u001b[0;34m\u001b[0m\u001b[0;34m\u001b[0m\u001b[0m\n\u001b[1;32m    116\u001b[0m \u001b[0;34m\u001b[0m\u001b[0m\n",
      "\u001b[0;32m~/anaconda3/envs/sig/lib/python3.6/site-packages/koalanlp/Util.py\u001b[0m in \u001b[0;36minitialize\u001b[0;34m(java_options, lib_path, force_download, port, **packages)\u001b[0m\n\u001b[1;32m    180\u001b[0m                       for artifact in index_manager.installed]\n\u001b[1;32m    181\u001b[0m         \u001b[0mwait_until_download_finished\u001b[0m\u001b[0;34m(\u001b[0m\u001b[0;34m)\u001b[0m\u001b[0;34m\u001b[0m\u001b[0;34m\u001b[0m\u001b[0m\n\u001b[0;32m--> 182\u001b[0;31m         \u001b[0mstart_jvm\u001b[0m\u001b[0;34m(\u001b[0m\u001b[0mjava_options\u001b[0m\u001b[0;34m,\u001b[0m \u001b[0mclasspaths\u001b[0m\u001b[0;34m,\u001b[0m \u001b[0mport\u001b[0m\u001b[0;34m=\u001b[0m\u001b[0mport\u001b[0m\u001b[0;34m)\u001b[0m\u001b[0;34m\u001b[0m\u001b[0;34m\u001b[0m\u001b[0m\n\u001b[0m\u001b[1;32m    183\u001b[0m \u001b[0;34m\u001b[0m\u001b[0m\n\u001b[1;32m    184\u001b[0m \u001b[0;34m\u001b[0m\u001b[0m\n",
      "\u001b[0;32m~/anaconda3/envs/sig/lib/python3.6/site-packages/koalanlp/jvm.py\u001b[0m in \u001b[0;36mstart_jvm\u001b[0;34m(option, classpath, port)\u001b[0m\n\u001b[1;32m     35\u001b[0m     \u001b[0mlogging\u001b[0m\u001b[0;34m.\u001b[0m\u001b[0minfo\u001b[0m\u001b[0;34m(\u001b[0m\u001b[0;34m\"Callback server will use port number %s\"\u001b[0m\u001b[0;34m,\u001b[0m \u001b[0mport\u001b[0m\u001b[0;34m)\u001b[0m\u001b[0;34m\u001b[0m\u001b[0;34m\u001b[0m\u001b[0m\n\u001b[1;32m     36\u001b[0m     GATEWAY = JavaGateway(gateway_parameters=GatewayParameters(port=gateway_port, auto_close=True),\n\u001b[0;32m---> 37\u001b[0;31m                           callback_server_parameters=CallbackServerParameters(port=port))\n\u001b[0m\u001b[1;32m     38\u001b[0m     \u001b[0;32mreturn\u001b[0m \u001b[0mis_jvm_running\u001b[0m\u001b[0;34m(\u001b[0m\u001b[0;34m)\u001b[0m\u001b[0;34m\u001b[0m\u001b[0;34m\u001b[0m\u001b[0m\n\u001b[1;32m     39\u001b[0m \u001b[0;34m\u001b[0m\u001b[0m\n",
      "\u001b[0;32m~/anaconda3/envs/sig/lib/python3.6/site-packages/py4j/java_gateway.py\u001b[0m in \u001b[0;36m__init__\u001b[0;34m(self, gateway_client, auto_field, python_proxy_port, start_callback_server, auto_convert, eager_load, gateway_parameters, callback_server_parameters, python_server_entry_point, java_process)\u001b[0m\n\u001b[1;32m   1821\u001b[0m             \u001b[0mself\u001b[0m\u001b[0;34m.\u001b[0m\u001b[0m_eager_load\u001b[0m\u001b[0;34m(\u001b[0m\u001b[0;34m)\u001b[0m\u001b[0;34m\u001b[0m\u001b[0;34m\u001b[0m\u001b[0m\n\u001b[1;32m   1822\u001b[0m         \u001b[0;32mif\u001b[0m \u001b[0mself\u001b[0m\u001b[0;34m.\u001b[0m\u001b[0mcallback_server_parameters\u001b[0m\u001b[0;34m.\u001b[0m\u001b[0meager_load\u001b[0m\u001b[0;34m:\u001b[0m\u001b[0;34m\u001b[0m\u001b[0;34m\u001b[0m\u001b[0m\n\u001b[0;32m-> 1823\u001b[0;31m             \u001b[0mself\u001b[0m\u001b[0;34m.\u001b[0m\u001b[0mstart_callback_server\u001b[0m\u001b[0;34m(\u001b[0m\u001b[0mself\u001b[0m\u001b[0;34m.\u001b[0m\u001b[0mcallback_server_parameters\u001b[0m\u001b[0;34m)\u001b[0m\u001b[0;34m\u001b[0m\u001b[0;34m\u001b[0m\u001b[0m\n\u001b[0m\u001b[1;32m   1824\u001b[0m \u001b[0;34m\u001b[0m\u001b[0m\n\u001b[1;32m   1825\u001b[0m         \u001b[0mself\u001b[0m\u001b[0;34m.\u001b[0m\u001b[0mjava_process\u001b[0m \u001b[0;34m=\u001b[0m \u001b[0mjava_process\u001b[0m\u001b[0;34m\u001b[0m\u001b[0;34m\u001b[0m\u001b[0m\n",
      "\u001b[0;32m~/anaconda3/envs/sig/lib/python3.6/site-packages/py4j/java_gateway.py\u001b[0m in \u001b[0;36mstart_callback_server\u001b[0;34m(self, callback_server_parameters)\u001b[0m\n\u001b[1;32m   1897\u001b[0m \u001b[0;34m\u001b[0m\u001b[0m\n\u001b[1;32m   1898\u001b[0m         \u001b[0;32mtry\u001b[0m\u001b[0;34m:\u001b[0m\u001b[0;34m\u001b[0m\u001b[0;34m\u001b[0m\u001b[0m\n\u001b[0;32m-> 1899\u001b[0;31m             \u001b[0mself\u001b[0m\u001b[0;34m.\u001b[0m\u001b[0m_callback_server\u001b[0m\u001b[0;34m.\u001b[0m\u001b[0mstart\u001b[0m\u001b[0;34m(\u001b[0m\u001b[0;34m)\u001b[0m\u001b[0;34m\u001b[0m\u001b[0;34m\u001b[0m\u001b[0m\n\u001b[0m\u001b[1;32m   1900\u001b[0m         \u001b[0;32mexcept\u001b[0m \u001b[0mPy4JNetworkError\u001b[0m\u001b[0;34m:\u001b[0m\u001b[0;34m\u001b[0m\u001b[0;34m\u001b[0m\u001b[0m\n\u001b[1;32m   1901\u001b[0m             \u001b[0;31m# Clean up ourselves before raising the exception.\u001b[0m\u001b[0;34m\u001b[0m\u001b[0;34m\u001b[0m\u001b[0;34m\u001b[0m\u001b[0m\n",
      "\u001b[0;32m~/anaconda3/envs/sig/lib/python3.6/site-packages/py4j/java_gateway.py\u001b[0m in \u001b[0;36mstart\u001b[0;34m(self)\u001b[0m\n\u001b[1;32m   2223\u001b[0m                   \u001b[0;34m\"server ({0}:{1})\"\u001b[0m\u001b[0;34m.\u001b[0m\u001b[0mformat\u001b[0m\u001b[0;34m(\u001b[0m\u001b[0mself\u001b[0m\u001b[0;34m.\u001b[0m\u001b[0maddress\u001b[0m\u001b[0;34m,\u001b[0m \u001b[0mself\u001b[0m\u001b[0;34m.\u001b[0m\u001b[0mport\u001b[0m\u001b[0;34m)\u001b[0m\u001b[0;34m\u001b[0m\u001b[0;34m\u001b[0m\u001b[0m\n\u001b[1;32m   2224\u001b[0m             \u001b[0mlogger\u001b[0m\u001b[0;34m.\u001b[0m\u001b[0mexception\u001b[0m\u001b[0;34m(\u001b[0m\u001b[0mmsg\u001b[0m\u001b[0;34m)\u001b[0m\u001b[0;34m\u001b[0m\u001b[0;34m\u001b[0m\u001b[0m\n\u001b[0;32m-> 2225\u001b[0;31m             \u001b[0;32mraise\u001b[0m \u001b[0mPy4JNetworkError\u001b[0m\u001b[0;34m(\u001b[0m\u001b[0mmsg\u001b[0m\u001b[0;34m,\u001b[0m \u001b[0me\u001b[0m\u001b[0;34m)\u001b[0m\u001b[0;34m\u001b[0m\u001b[0;34m\u001b[0m\u001b[0m\n\u001b[0m\u001b[1;32m   2226\u001b[0m \u001b[0;34m\u001b[0m\u001b[0m\n\u001b[1;32m   2227\u001b[0m         \u001b[0;31m# Maybe thread needs to be cleanup up?\u001b[0m\u001b[0;34m\u001b[0m\u001b[0;34m\u001b[0m\u001b[0;34m\u001b[0m\u001b[0m\n",
      "\u001b[0;31mPy4JNetworkError\u001b[0m: An error occurred while trying to start the callback server (127.0.0.1:25334)"
     ]
    }
   ],
   "metadata": {}
  },
  {
   "cell_type": "code",
   "execution_count": 3,
   "source": [
    "# x_train, x_test, _, _ = train_test_split(document_list, document_list, test_size=0.2, shuffle=True, random_state=34)\n",
    "doc_idx = 432\n",
    "doc = document_list[doc_idx]\n",
    "title = title_list[doc_idx]"
   ],
   "outputs": [],
   "metadata": {}
  },
  {
   "cell_type": "code",
   "execution_count": 4,
   "source": [
    "parser = DependencyParser()\n",
    "nouns = parser.get_cdks_with_parser(doc)\n",
    "print(doc)\n",
    "print(nouns)"
   ],
   "outputs": [
    {
     "output_type": "stream",
     "name": "stdout",
     "text": [
      "계용묵은 일제강점기 『병풍에 그린 닭이』, 『백치아다다』 등을 저술한 소설가. 계용묵은 본관은 수안. 본명은 하태용. 평안북도 선천 출신. 아버지는 항교, 어머니는 죽산 박씨이며, 1남 3녀 중 장남이다. 대지주 집안에서 태어나 신학문을 반대하는 할아버지 밑에서 한문을 수학하였다. 향리의 삼봉공립보통학교에 다닐 때 순흥 안씨 안정옥과 혼인하였다.\n",
      "['가', '군', '삼국시대', '고구', '장안성', '축성', '책', 'ㅁ', 'ㄴ', '관리', '키워드장안성축성평원왕계루부', '1964년', '평양', '중구역', '남문동', '발견', '내성', '성벽돌', '명문', '성곽', '축조시', '소형', '관등', '일정', '거리', '성벽', '축조', '감독하', '522년', '589년', '천도', '활동', '시기', '6세', '후반', '평원왕', '추정', '괘루개절', '가군', '출신지', '직명', '괘루', '5부', '계루부', '표', '관직명', '일종', '인민대학습당', '내부', '원위치']\n"
     ]
    }
   ],
   "metadata": {}
  },
  {
   "cell_type": "code",
   "execution_count": 5,
   "source": [
    "# 문장, 후보 키워드 임베딩(KoBERT활용)\n",
    "_, title_vector = embeder.encode([title])\n",
    "_, noun_vectors = embeder.encode(nouns)"
   ],
   "outputs": [
    {
     "output_type": "stream",
     "name": "stderr",
     "text": [
      "100%|██████████| 1/1 [00:00<00:00,  3.54it/s]\n",
      "100%|██████████| 25/25 [00:00<00:00, 56.27it/s]\n"
     ]
    }
   ],
   "metadata": {}
  },
  {
   "cell_type": "code",
   "execution_count": 6,
   "source": [
    "from sklearn.metrics.pairwise import cosine_similarity\n",
    "\n",
    "top_n = 5\n",
    "title_vector = title_vector[0]\n",
    "doc_embedding_ = [[value.item() for value in title_vector]]\n",
    "candicates_embedding_ = [[value.item() for value in noun_vector]for noun_vector in noun_vectors]\n",
    "distances = cosine_similarity(doc_embedding_, candicates_embedding_)\n",
    "print(distances.argsort())\n",
    "keywords = [nouns[index] for index in distances.argsort()[0]]  "
   ],
   "outputs": [
    {
     "output_type": "stream",
     "name": "stdout",
     "text": [
      "[[41 21 27  6 40 22 29  4 37 14 43  0 32 18 35 48 30 47  9 10 36 23 19  2\n",
      "  13 34 24 38  7  8 39 49 11 15 17 31 44 33 20 28  3 26 25 45 46  1 16 42\n",
      "  12  5]]\n"
     ]
    }
   ],
   "metadata": {
    "tags": []
   }
  },
  {
   "cell_type": "code",
   "execution_count": 7,
   "source": [
    "print(title, \":\", doc)\n",
    "keywords.reverse()\n",
    "print(keywords)"
   ],
   "outputs": [
    {
     "output_type": "stream",
     "name": "stdout",
     "text": [
      "계용묵 : 계용묵은 일제강점기 『병풍에 그린 닭이』, 『백치아다다』 등을 저술한 소설가. 계용묵은 본관은 수안. 본명은 하태용. 평안북도 선천 출신. 아버지는 항교, 어머니는 죽산 박씨이며, 1남 3녀 중 장남이다. 대지주 집안에서 태어나 신학문을 반대하는 할아버지 밑에서 한문을 수학하였다. 향리의 삼봉공립보통학교에 다닐 때 순흥 안씨 안정옥과 혼인하였다.\n",
      "['축성', '평양', '5부', '내성', '군', '일종', '관직명', '성벽', '축조', '고구', '522년', '축조시', '6세', '표', '활동', '성벽돌', '발견', '1964년', '원위치', '출신지', 'ㄴ', 'ㅁ', '가군', '거리', '후반', '중구역', '삼국시대', '성곽', '일정', '추정', '키워드장안성축성평원왕계루부', '관리', '인민대학습당', '천도', '내부', '평원왕', '명문', '시기', '가', '계루부', '남문동', '괘루개절', '장안성', '589년', '관등', '직명', '책', '감독하', '소형', '괘루']\n"
     ]
    }
   ],
   "metadata": {}
  },
  {
   "cell_type": "code",
   "execution_count": 8,
   "source": [
    "# from gensim.models import Word2Vec # candidates = [get_cdks_with_parser(doc) for doc in [ document_list[i] for i in range(10)]] # embedding_model = Word2Vec(candidates, size=100, #                            window=5, min_count=1, workers=4, iter=10, sg=1) # words = get_cdks_with_parser(document_list[0]) # similar_list = [] # for word in words: #     similar_list.append( #         (word, embedding_model.wv.similarity(w1=title[0], w2=word))) # similar_list = sorted(similar_list, key=lambda sim: sim[1], reverse=True) # print(similar_list)"
   ],
   "outputs": [],
   "metadata": {}
  },
  {
   "cell_type": "code",
   "execution_count": 9,
   "source": [
    "# print(title[0])\n",
    "# print([word for word, similar in [similar_list[i] for i in range(5)]])\n"
   ],
   "outputs": [],
   "metadata": {}
  }
 ]
}