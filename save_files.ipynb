{
 "cells": [
  {
   "cell_type": "code",
   "execution_count": null,
   "id": "4e01f228-cf3f-4ccf-9013-fe9dfaaa39e1",
   "metadata": {},
   "outputs": [],
   "source": [
    "import json"
   ]
  },
  {
   "cell_type": "code",
   "execution_count": null,
   "id": "0c8c3bc9-0fda-4c3b-9459-77e222337eda",
   "metadata": {},
   "outputs": [],
   "source": [
    "def save_json(file_name, dict_):\n",
    "    with open(file_name, 'w', encoding='utf-8') as file:\n",
    "        json.dump(dict_, file, indent='\\t')\n",
    "            \n",
    "def load_json(file_name):\n",
    "    dict_ = None\n",
    "    with open(file_name, 'r') as file:\n",
    "        dict_ = json.load(file)\n",
    "    return dict_"
   ]
  }
 ],
 "metadata": {
  "kernelspec": {
   "display_name": "sig",
   "language": "python",
   "name": "sig"
  },
  "language_info": {
   "codemirror_mode": {
    "name": "ipython",
    "version": 3
   },
   "file_extension": ".py",
   "mimetype": "text/x-python",
   "name": "python",
   "nbconvert_exporter": "python",
   "pygments_lexer": "ipython3",
   "version": "3.8.10"
  }
 },
 "nbformat": 4,
 "nbformat_minor": 5
}
